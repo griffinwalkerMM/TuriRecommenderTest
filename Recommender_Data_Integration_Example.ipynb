{
 "cells": [
  {
   "cell_type": "markdown",
   "metadata": {},
   "source": [
    "## **Book Recommendation with a Target**"
   ]
  },
  {
   "cell_type": "code",
   "execution_count": 1,
   "metadata": {},
   "outputs": [],
   "source": [
    "import pandas as pd\n",
    "import turicreate as tc"
   ]
  },
  {
   "cell_type": "code",
   "execution_count": 2,
   "metadata": {},
   "outputs": [],
   "source": [
    "data = pd.read_csv(\"/home/griffin/Downloads/BX-Book-Ratings.csv\", sep = \";\",  encoding = \"ISO-8859-1\")\n",
    "data['Book-Rating'] = data['Book-Rating'].astype(int)"
   ]
  },
  {
   "cell_type": "code",
   "execution_count": 3,
   "metadata": {},
   "outputs": [],
   "source": [
    "tc.config.set_num_gpus(1)"
   ]
  },
  {
   "cell_type": "code",
   "execution_count": 4,
   "metadata": {},
   "outputs": [],
   "source": [
    "data = tc.SFrame(data)"
   ]
  },
  {
   "cell_type": "code",
   "execution_count": 5,
   "metadata": {},
   "outputs": [
    {
     "data": {
      "text/html": [
       "<div style=\"max-height:1000px;max-width:1500px;overflow:auto;\"><table frame=\"box\" rules=\"cols\">\n",
       "    <tr>\n",
       "        <th style=\"padding-left: 1em; padding-right: 1em; text-align: center\">User-ID</th>\n",
       "        <th style=\"padding-left: 1em; padding-right: 1em; text-align: center\">ISBN</th>\n",
       "        <th style=\"padding-left: 1em; padding-right: 1em; text-align: center\">Book-Rating</th>\n",
       "    </tr>\n",
       "    <tr>\n",
       "        <td style=\"padding-left: 1em; padding-right: 1em; text-align: center; vertical-align: top\">276725</td>\n",
       "        <td style=\"padding-left: 1em; padding-right: 1em; text-align: center; vertical-align: top\">034545104X</td>\n",
       "        <td style=\"padding-left: 1em; padding-right: 1em; text-align: center; vertical-align: top\">0</td>\n",
       "    </tr>\n",
       "    <tr>\n",
       "        <td style=\"padding-left: 1em; padding-right: 1em; text-align: center; vertical-align: top\">276726</td>\n",
       "        <td style=\"padding-left: 1em; padding-right: 1em; text-align: center; vertical-align: top\">0155061224</td>\n",
       "        <td style=\"padding-left: 1em; padding-right: 1em; text-align: center; vertical-align: top\">5</td>\n",
       "    </tr>\n",
       "    <tr>\n",
       "        <td style=\"padding-left: 1em; padding-right: 1em; text-align: center; vertical-align: top\">276727</td>\n",
       "        <td style=\"padding-left: 1em; padding-right: 1em; text-align: center; vertical-align: top\">0446520802</td>\n",
       "        <td style=\"padding-left: 1em; padding-right: 1em; text-align: center; vertical-align: top\">0</td>\n",
       "    </tr>\n",
       "    <tr>\n",
       "        <td style=\"padding-left: 1em; padding-right: 1em; text-align: center; vertical-align: top\">276729</td>\n",
       "        <td style=\"padding-left: 1em; padding-right: 1em; text-align: center; vertical-align: top\">052165615X</td>\n",
       "        <td style=\"padding-left: 1em; padding-right: 1em; text-align: center; vertical-align: top\">3</td>\n",
       "    </tr>\n",
       "    <tr>\n",
       "        <td style=\"padding-left: 1em; padding-right: 1em; text-align: center; vertical-align: top\">276729</td>\n",
       "        <td style=\"padding-left: 1em; padding-right: 1em; text-align: center; vertical-align: top\">0521795028</td>\n",
       "        <td style=\"padding-left: 1em; padding-right: 1em; text-align: center; vertical-align: top\">6</td>\n",
       "    </tr>\n",
       "    <tr>\n",
       "        <td style=\"padding-left: 1em; padding-right: 1em; text-align: center; vertical-align: top\">276733</td>\n",
       "        <td style=\"padding-left: 1em; padding-right: 1em; text-align: center; vertical-align: top\">2080674722</td>\n",
       "        <td style=\"padding-left: 1em; padding-right: 1em; text-align: center; vertical-align: top\">0</td>\n",
       "    </tr>\n",
       "    <tr>\n",
       "        <td style=\"padding-left: 1em; padding-right: 1em; text-align: center; vertical-align: top\">276736</td>\n",
       "        <td style=\"padding-left: 1em; padding-right: 1em; text-align: center; vertical-align: top\">3257224281</td>\n",
       "        <td style=\"padding-left: 1em; padding-right: 1em; text-align: center; vertical-align: top\">8</td>\n",
       "    </tr>\n",
       "    <tr>\n",
       "        <td style=\"padding-left: 1em; padding-right: 1em; text-align: center; vertical-align: top\">276737</td>\n",
       "        <td style=\"padding-left: 1em; padding-right: 1em; text-align: center; vertical-align: top\">0600570967</td>\n",
       "        <td style=\"padding-left: 1em; padding-right: 1em; text-align: center; vertical-align: top\">6</td>\n",
       "    </tr>\n",
       "    <tr>\n",
       "        <td style=\"padding-left: 1em; padding-right: 1em; text-align: center; vertical-align: top\">276744</td>\n",
       "        <td style=\"padding-left: 1em; padding-right: 1em; text-align: center; vertical-align: top\">038550120X</td>\n",
       "        <td style=\"padding-left: 1em; padding-right: 1em; text-align: center; vertical-align: top\">7</td>\n",
       "    </tr>\n",
       "    <tr>\n",
       "        <td style=\"padding-left: 1em; padding-right: 1em; text-align: center; vertical-align: top\">276745</td>\n",
       "        <td style=\"padding-left: 1em; padding-right: 1em; text-align: center; vertical-align: top\">342310538</td>\n",
       "        <td style=\"padding-left: 1em; padding-right: 1em; text-align: center; vertical-align: top\">10</td>\n",
       "    </tr>\n",
       "</table>\n",
       "[10 rows x 3 columns]<br/>\n",
       "</div>"
      ],
      "text/plain": [
       "Columns:\n",
       "\tUser-ID\tint\n",
       "\tISBN\tstr\n",
       "\tBook-Rating\tint\n",
       "\n",
       "Rows: 10\n",
       "\n",
       "Data:\n",
       "+---------+------------+-------------+\n",
       "| User-ID |    ISBN    | Book-Rating |\n",
       "+---------+------------+-------------+\n",
       "|  276725 | 034545104X |      0      |\n",
       "|  276726 | 0155061224 |      5      |\n",
       "|  276727 | 0446520802 |      0      |\n",
       "|  276729 | 052165615X |      3      |\n",
       "|  276729 | 0521795028 |      6      |\n",
       "|  276733 | 2080674722 |      0      |\n",
       "|  276736 | 3257224281 |      8      |\n",
       "|  276737 | 0600570967 |      6      |\n",
       "|  276744 | 038550120X |      7      |\n",
       "|  276745 | 342310538  |      10     |\n",
       "+---------+------------+-------------+\n",
       "[10 rows x 3 columns]"
      ]
     },
     "execution_count": 5,
     "metadata": {},
     "output_type": "execute_result"
    }
   ],
   "source": [
    "data.head()"
   ]
  },
  {
   "cell_type": "code",
   "execution_count": 6,
   "metadata": {},
   "outputs": [],
   "source": [
    "\n",
    "# split the training and validation sets up\n",
    "training_data, validation_data = tc.recommender.util.random_split_by_user(data, 'User-ID', 'ISBN')"
   ]
  },
  {
   "cell_type": "code",
   "execution_count": 7,
   "metadata": {},
   "outputs": [
    {
     "data": {
      "text/html": [
       "<pre>Recsys training: model = ranking_factorization_recommender</pre>"
      ],
      "text/plain": [
       "Recsys training: model = ranking_factorization_recommender"
      ]
     },
     "metadata": {},
     "output_type": "display_data"
    },
    {
     "data": {
      "text/html": [
       "<pre>Preparing data set.</pre>"
      ],
      "text/plain": [
       "Preparing data set."
      ]
     },
     "metadata": {},
     "output_type": "display_data"
    },
    {
     "data": {
      "text/html": [
       "<pre>    Data has 1147266 observations with 105171 users and 340163 items.</pre>"
      ],
      "text/plain": [
       "    Data has 1147266 observations with 105171 users and 340163 items."
      ]
     },
     "metadata": {},
     "output_type": "display_data"
    },
    {
     "data": {
      "text/html": [
       "<pre>    Data prepared in: 0.448873s</pre>"
      ],
      "text/plain": [
       "    Data prepared in: 0.448873s"
      ]
     },
     "metadata": {},
     "output_type": "display_data"
    },
    {
     "data": {
      "text/html": [
       "<pre>Training ranking_factorization_recommender for recommendations.</pre>"
      ],
      "text/plain": [
       "Training ranking_factorization_recommender for recommendations."
      ]
     },
     "metadata": {},
     "output_type": "display_data"
    },
    {
     "data": {
      "text/html": [
       "<pre>+--------------------------------+--------------------------------------------------+----------+</pre>"
      ],
      "text/plain": [
       "+--------------------------------+--------------------------------------------------+----------+"
      ]
     },
     "metadata": {},
     "output_type": "display_data"
    },
    {
     "data": {
      "text/html": [
       "<pre>| Parameter                      | Description                                      | Value    |</pre>"
      ],
      "text/plain": [
       "| Parameter                      | Description                                      | Value    |"
      ]
     },
     "metadata": {},
     "output_type": "display_data"
    },
    {
     "data": {
      "text/html": [
       "<pre>+--------------------------------+--------------------------------------------------+----------+</pre>"
      ],
      "text/plain": [
       "+--------------------------------+--------------------------------------------------+----------+"
      ]
     },
     "metadata": {},
     "output_type": "display_data"
    },
    {
     "data": {
      "text/html": [
       "<pre>| num_factors                    | Factor Dimension                                 | 32       |</pre>"
      ],
      "text/plain": [
       "| num_factors                    | Factor Dimension                                 | 32       |"
      ]
     },
     "metadata": {},
     "output_type": "display_data"
    },
    {
     "data": {
      "text/html": [
       "<pre>| regularization                 | L2 Regularization on Factors                     | 1e-09    |</pre>"
      ],
      "text/plain": [
       "| regularization                 | L2 Regularization on Factors                     | 1e-09    |"
      ]
     },
     "metadata": {},
     "output_type": "display_data"
    },
    {
     "data": {
      "text/html": [
       "<pre>| solver                         | Solver used for training                         | sgd      |</pre>"
      ],
      "text/plain": [
       "| solver                         | Solver used for training                         | sgd      |"
      ]
     },
     "metadata": {},
     "output_type": "display_data"
    },
    {
     "data": {
      "text/html": [
       "<pre>| linear_regularization          | L2 Regularization on Linear Coefficients         | 1e-09    |</pre>"
      ],
      "text/plain": [
       "| linear_regularization          | L2 Regularization on Linear Coefficients         | 1e-09    |"
      ]
     },
     "metadata": {},
     "output_type": "display_data"
    },
    {
     "data": {
      "text/html": [
       "<pre>| ranking_regularization         | Rank-based Regularization Weight                 | 0.25     |</pre>"
      ],
      "text/plain": [
       "| ranking_regularization         | Rank-based Regularization Weight                 | 0.25     |"
      ]
     },
     "metadata": {},
     "output_type": "display_data"
    },
    {
     "data": {
      "text/html": [
       "<pre>| max_iterations                 | Maximum Number of Iterations                     | 25       |</pre>"
      ],
      "text/plain": [
       "| max_iterations                 | Maximum Number of Iterations                     | 25       |"
      ]
     },
     "metadata": {},
     "output_type": "display_data"
    },
    {
     "data": {
      "text/html": [
       "<pre>+--------------------------------+--------------------------------------------------+----------+</pre>"
      ],
      "text/plain": [
       "+--------------------------------+--------------------------------------------------+----------+"
      ]
     },
     "metadata": {},
     "output_type": "display_data"
    },
    {
     "data": {
      "text/html": [
       "<pre>  Optimizing model using SGD; tuning step size.</pre>"
      ],
      "text/plain": [
       "  Optimizing model using SGD; tuning step size."
      ]
     },
     "metadata": {},
     "output_type": "display_data"
    },
    {
     "data": {
      "text/html": [
       "<pre>  Using 143408 / 1147266 points for tuning the step size.</pre>"
      ],
      "text/plain": [
       "  Using 143408 / 1147266 points for tuning the step size."
      ]
     },
     "metadata": {},
     "output_type": "display_data"
    },
    {
     "data": {
      "text/html": [
       "<pre>+---------+-------------------+------------------------------------------+</pre>"
      ],
      "text/plain": [
       "+---------+-------------------+------------------------------------------+"
      ]
     },
     "metadata": {},
     "output_type": "display_data"
    },
    {
     "data": {
      "text/html": [
       "<pre>| Attempt | Initial Step Size | Estimated Objective Value                |</pre>"
      ],
      "text/plain": [
       "| Attempt | Initial Step Size | Estimated Objective Value                |"
      ]
     },
     "metadata": {},
     "output_type": "display_data"
    },
    {
     "data": {
      "text/html": [
       "<pre>+---------+-------------------+------------------------------------------+</pre>"
      ],
      "text/plain": [
       "+---------+-------------------+------------------------------------------+"
      ]
     },
     "metadata": {},
     "output_type": "display_data"
    },
    {
     "data": {
      "text/html": [
       "<pre>| 0       | 25                | Not Viable                               |</pre>"
      ],
      "text/plain": [
       "| 0       | 25                | Not Viable                               |"
      ]
     },
     "metadata": {},
     "output_type": "display_data"
    },
    {
     "data": {
      "text/html": [
       "<pre>| 1       | 6.25              | Not Viable                               |</pre>"
      ],
      "text/plain": [
       "| 1       | 6.25              | Not Viable                               |"
      ]
     },
     "metadata": {},
     "output_type": "display_data"
    },
    {
     "data": {
      "text/html": [
       "<pre>| 2       | 1.5625            | Not Viable                               |</pre>"
      ],
      "text/plain": [
       "| 2       | 1.5625            | Not Viable                               |"
      ]
     },
     "metadata": {},
     "output_type": "display_data"
    },
    {
     "data": {
      "text/html": [
       "<pre>| 3       | 0.390625          | Not Viable                               |</pre>"
      ],
      "text/plain": [
       "| 3       | 0.390625          | Not Viable                               |"
      ]
     },
     "metadata": {},
     "output_type": "display_data"
    },
    {
     "data": {
      "text/html": [
       "<pre>| 4       | 0.0976562         | No Decrease (185.254 >= 29.1123)         |</pre>"
      ],
      "text/plain": [
       "| 4       | 0.0976562         | No Decrease (185.254 >= 29.1123)         |"
      ]
     },
     "metadata": {},
     "output_type": "display_data"
    },
    {
     "data": {
      "text/html": [
       "<pre>| 5       | 0.0244141         | 20.3095                                  |</pre>"
      ],
      "text/plain": [
       "| 5       | 0.0244141         | 20.3095                                  |"
      ]
     },
     "metadata": {},
     "output_type": "display_data"
    },
    {
     "data": {
      "text/html": [
       "<pre>| 6       | 0.012207          | 21.8872                                  |</pre>"
      ],
      "text/plain": [
       "| 6       | 0.012207          | 21.8872                                  |"
      ]
     },
     "metadata": {},
     "output_type": "display_data"
    },
    {
     "data": {
      "text/html": [
       "<pre>| 7       | 0.00610352        | 23.0782                                  |</pre>"
      ],
      "text/plain": [
       "| 7       | 0.00610352        | 23.0782                                  |"
      ]
     },
     "metadata": {},
     "output_type": "display_data"
    },
    {
     "data": {
      "text/html": [
       "<pre>| 8       | 0.00305176        | 24.1071                                  |</pre>"
      ],
      "text/plain": [
       "| 8       | 0.00305176        | 24.1071                                  |"
      ]
     },
     "metadata": {},
     "output_type": "display_data"
    },
    {
     "data": {
      "text/html": [
       "<pre>+---------+-------------------+------------------------------------------+</pre>"
      ],
      "text/plain": [
       "+---------+-------------------+------------------------------------------+"
      ]
     },
     "metadata": {},
     "output_type": "display_data"
    },
    {
     "data": {
      "text/html": [
       "<pre>| Final   | 0.0244141         | 20.3095                                  |</pre>"
      ],
      "text/plain": [
       "| Final   | 0.0244141         | 20.3095                                  |"
      ]
     },
     "metadata": {},
     "output_type": "display_data"
    },
    {
     "data": {
      "text/html": [
       "<pre>+---------+-------------------+------------------------------------------+</pre>"
      ],
      "text/plain": [
       "+---------+-------------------+------------------------------------------+"
      ]
     },
     "metadata": {},
     "output_type": "display_data"
    },
    {
     "data": {
      "text/html": [
       "<pre>Starting Optimization.</pre>"
      ],
      "text/plain": [
       "Starting Optimization."
      ]
     },
     "metadata": {},
     "output_type": "display_data"
    },
    {
     "data": {
      "text/html": [
       "<pre>+---------+--------------+-------------------+-----------------------+-------------+</pre>"
      ],
      "text/plain": [
       "+---------+--------------+-------------------+-----------------------+-------------+"
      ]
     },
     "metadata": {},
     "output_type": "display_data"
    },
    {
     "data": {
      "text/html": [
       "<pre>| Iter.   | Elapsed Time | Approx. Objective | Approx. Training RMSE | Step Size   |</pre>"
      ],
      "text/plain": [
       "| Iter.   | Elapsed Time | Approx. Objective | Approx. Training RMSE | Step Size   |"
      ]
     },
     "metadata": {},
     "output_type": "display_data"
    },
    {
     "data": {
      "text/html": [
       "<pre>+---------+--------------+-------------------+-----------------------+-------------+</pre>"
      ],
      "text/plain": [
       "+---------+--------------+-------------------+-----------------------+-------------+"
      ]
     },
     "metadata": {},
     "output_type": "display_data"
    },
    {
     "data": {
      "text/html": [
       "<pre>| Initial | 72us         | 29.1239           | 3.85428               |             |</pre>"
      ],
      "text/plain": [
       "| Initial | 72us         | 29.1239           | 3.85428               |             |"
      ]
     },
     "metadata": {},
     "output_type": "display_data"
    },
    {
     "data": {
      "text/html": [
       "<pre>+---------+--------------+-------------------+-----------------------+-------------+</pre>"
      ],
      "text/plain": [
       "+---------+--------------+-------------------+-----------------------+-------------+"
      ]
     },
     "metadata": {},
     "output_type": "display_data"
    },
    {
     "data": {
      "text/html": [
       "<pre>| 1       | 531.198ms    | 23.782            | 3.67578               | 0.0244141   |</pre>"
      ],
      "text/plain": [
       "| 1       | 531.198ms    | 23.782            | 3.67578               | 0.0244141   |"
      ]
     },
     "metadata": {},
     "output_type": "display_data"
    },
    {
     "data": {
      "text/html": [
       "<pre>| 2       | 1.05s        | 22.5136           | 3.58435               | 0.0145167   |</pre>"
      ],
      "text/plain": [
       "| 2       | 1.05s        | 22.5136           | 3.58435               | 0.0145167   |"
      ]
     },
     "metadata": {},
     "output_type": "display_data"
    },
    {
     "data": {
      "text/html": [
       "<pre>| 3       | 1.58s        | 21.5241           | 3.49232               | 0.0107102   |</pre>"
      ],
      "text/plain": [
       "| 3       | 1.58s        | 21.5241           | 3.49232               | 0.0107102   |"
      ]
     },
     "metadata": {},
     "output_type": "display_data"
    },
    {
     "data": {
      "text/html": [
       "<pre>| 4       | 2.11s        | 20.1965           | 3.34139               | 0.00863167  |</pre>"
      ],
      "text/plain": [
       "| 4       | 2.11s        | 20.1965           | 3.34139               | 0.00863167  |"
      ]
     },
     "metadata": {},
     "output_type": "display_data"
    },
    {
     "data": {
      "text/html": [
       "<pre>| 5       | 2.63s        | 18.7057           | 3.15479               | 0.00730151  |</pre>"
      ],
      "text/plain": [
       "| 5       | 2.63s        | 18.7057           | 3.15479               | 0.00730151  |"
      ]
     },
     "metadata": {},
     "output_type": "display_data"
    },
    {
     "data": {
      "text/html": [
       "<pre>| 10      | 5.20s        | 12.6229           | 2.31405               | 0.0043415   |</pre>"
      ],
      "text/plain": [
       "| 10      | 5.20s        | 12.6229           | 2.31405               | 0.0043415   |"
      ]
     },
     "metadata": {},
     "output_type": "display_data"
    },
    {
     "data": {
      "text/html": [
       "<pre>| 20      | 10.26s       | 8.47111           | 1.64284               | 0.00258147  |</pre>"
      ],
      "text/plain": [
       "| 20      | 10.26s       | 8.47111           | 1.64284               | 0.00258147  |"
      ]
     },
     "metadata": {},
     "output_type": "display_data"
    },
    {
     "data": {
      "text/html": [
       "<pre>| 25      | 12.74s       | 7.57668           | 1.48578               | 0.00218366  |</pre>"
      ],
      "text/plain": [
       "| 25      | 12.74s       | 7.57668           | 1.48578               | 0.00218366  |"
      ]
     },
     "metadata": {},
     "output_type": "display_data"
    },
    {
     "data": {
      "text/html": [
       "<pre>+---------+--------------+-------------------+-----------------------+-------------+</pre>"
      ],
      "text/plain": [
       "+---------+--------------+-------------------+-----------------------+-------------+"
      ]
     },
     "metadata": {},
     "output_type": "display_data"
    },
    {
     "data": {
      "text/html": [
       "<pre>Optimization Complete: Maximum number of passes through the data reached.</pre>"
      ],
      "text/plain": [
       "Optimization Complete: Maximum number of passes through the data reached."
      ]
     },
     "metadata": {},
     "output_type": "display_data"
    },
    {
     "data": {
      "text/html": [
       "<pre>Computing final objective value and training RMSE.</pre>"
      ],
      "text/plain": [
       "Computing final objective value and training RMSE."
      ]
     },
     "metadata": {},
     "output_type": "display_data"
    },
    {
     "data": {
      "text/html": [
       "<pre>       Final objective value: 7.30835</pre>"
      ],
      "text/plain": [
       "       Final objective value: 7.30835"
      ]
     },
     "metadata": {},
     "output_type": "display_data"
    },
    {
     "data": {
      "text/html": [
       "<pre>       Final training RMSE: 1.40293</pre>"
      ],
      "text/plain": [
       "       Final training RMSE: 1.40293"
      ]
     },
     "metadata": {},
     "output_type": "display_data"
    }
   ],
   "source": [
    "\n",
    "# build the recommender\n",
    "#model = tc.recommender.create(training_data, 'User-ID', 'ISBN', target = 'Book-Rating')\n",
    "model = tc.recommender.create(observation_data=training_data, user_id = 'User-ID', item_id='ISBN', target = 'Book-Rating' )"
   ]
  },
  {
   "cell_type": "code",
   "execution_count": 8,
   "metadata": {},
   "outputs": [
    {
     "data": {
      "text/html": [
       "<pre>recommendations finished on 1000/105171 queries. users per second: 129.7</pre>"
      ],
      "text/plain": [
       "recommendations finished on 1000/105171 queries. users per second: 129.7"
      ]
     },
     "metadata": {},
     "output_type": "display_data"
    },
    {
     "data": {
      "text/html": [
       "<pre>recommendations finished on 2000/105171 queries. users per second: 132.452</pre>"
      ],
      "text/plain": [
       "recommendations finished on 2000/105171 queries. users per second: 132.452"
      ]
     },
     "metadata": {},
     "output_type": "display_data"
    },
    {
     "data": {
      "text/html": [
       "<pre>recommendations finished on 3000/105171 queries. users per second: 133.693</pre>"
      ],
      "text/plain": [
       "recommendations finished on 3000/105171 queries. users per second: 133.693"
      ]
     },
     "metadata": {},
     "output_type": "display_data"
    },
    {
     "data": {
      "text/html": [
       "<pre>recommendations finished on 4000/105171 queries. users per second: 134.257</pre>"
      ],
      "text/plain": [
       "recommendations finished on 4000/105171 queries. users per second: 134.257"
      ]
     },
     "metadata": {},
     "output_type": "display_data"
    },
    {
     "data": {
      "text/html": [
       "<pre>recommendations finished on 5000/105171 queries. users per second: 134.503</pre>"
      ],
      "text/plain": [
       "recommendations finished on 5000/105171 queries. users per second: 134.503"
      ]
     },
     "metadata": {},
     "output_type": "display_data"
    },
    {
     "data": {
      "text/html": [
       "<pre>recommendations finished on 6000/105171 queries. users per second: 134.798</pre>"
      ],
      "text/plain": [
       "recommendations finished on 6000/105171 queries. users per second: 134.798"
      ]
     },
     "metadata": {},
     "output_type": "display_data"
    },
    {
     "data": {
      "text/html": [
       "<pre>recommendations finished on 7000/105171 queries. users per second: 134.847</pre>"
      ],
      "text/plain": [
       "recommendations finished on 7000/105171 queries. users per second: 134.847"
      ]
     },
     "metadata": {},
     "output_type": "display_data"
    },
    {
     "data": {
      "text/html": [
       "<pre>recommendations finished on 8000/105171 queries. users per second: 134.9</pre>"
      ],
      "text/plain": [
       "recommendations finished on 8000/105171 queries. users per second: 134.9"
      ]
     },
     "metadata": {},
     "output_type": "display_data"
    },
    {
     "data": {
      "text/html": [
       "<pre>recommendations finished on 9000/105171 queries. users per second: 135.054</pre>"
      ],
      "text/plain": [
       "recommendations finished on 9000/105171 queries. users per second: 135.054"
      ]
     },
     "metadata": {},
     "output_type": "display_data"
    },
    {
     "data": {
      "text/html": [
       "<pre>recommendations finished on 10000/105171 queries. users per second: 135.002</pre>"
      ],
      "text/plain": [
       "recommendations finished on 10000/105171 queries. users per second: 135.002"
      ]
     },
     "metadata": {},
     "output_type": "display_data"
    },
    {
     "data": {
      "text/html": [
       "<pre>recommendations finished on 11000/105171 queries. users per second: 135.033</pre>"
      ],
      "text/plain": [
       "recommendations finished on 11000/105171 queries. users per second: 135.033"
      ]
     },
     "metadata": {},
     "output_type": "display_data"
    },
    {
     "data": {
      "text/html": [
       "<pre>recommendations finished on 12000/105171 queries. users per second: 135.135</pre>"
      ],
      "text/plain": [
       "recommendations finished on 12000/105171 queries. users per second: 135.135"
      ]
     },
     "metadata": {},
     "output_type": "display_data"
    },
    {
     "data": {
      "text/html": [
       "<pre>recommendations finished on 13000/105171 queries. users per second: 135.121</pre>"
      ],
      "text/plain": [
       "recommendations finished on 13000/105171 queries. users per second: 135.121"
      ]
     },
     "metadata": {},
     "output_type": "display_data"
    },
    {
     "data": {
      "text/html": [
       "<pre>recommendations finished on 14000/105171 queries. users per second: 135.183</pre>"
      ],
      "text/plain": [
       "recommendations finished on 14000/105171 queries. users per second: 135.183"
      ]
     },
     "metadata": {},
     "output_type": "display_data"
    },
    {
     "data": {
      "text/html": [
       "<pre>recommendations finished on 15000/105171 queries. users per second: 135.192</pre>"
      ],
      "text/plain": [
       "recommendations finished on 15000/105171 queries. users per second: 135.192"
      ]
     },
     "metadata": {},
     "output_type": "display_data"
    },
    {
     "data": {
      "text/html": [
       "<pre>recommendations finished on 16000/105171 queries. users per second: 135.199</pre>"
      ],
      "text/plain": [
       "recommendations finished on 16000/105171 queries. users per second: 135.199"
      ]
     },
     "metadata": {},
     "output_type": "display_data"
    },
    {
     "data": {
      "text/html": [
       "<pre>recommendations finished on 17000/105171 queries. users per second: 134.938</pre>"
      ],
      "text/plain": [
       "recommendations finished on 17000/105171 queries. users per second: 134.938"
      ]
     },
     "metadata": {},
     "output_type": "display_data"
    },
    {
     "data": {
      "text/html": [
       "<pre>recommendations finished on 18000/105171 queries. users per second: 134.993</pre>"
      ],
      "text/plain": [
       "recommendations finished on 18000/105171 queries. users per second: 134.993"
      ]
     },
     "metadata": {},
     "output_type": "display_data"
    },
    {
     "data": {
      "text/html": [
       "<pre>recommendations finished on 19000/105171 queries. users per second: 135.003</pre>"
      ],
      "text/plain": [
       "recommendations finished on 19000/105171 queries. users per second: 135.003"
      ]
     },
     "metadata": {},
     "output_type": "display_data"
    },
    {
     "data": {
      "text/html": [
       "<pre>recommendations finished on 20000/105171 queries. users per second: 135.023</pre>"
      ],
      "text/plain": [
       "recommendations finished on 20000/105171 queries. users per second: 135.023"
      ]
     },
     "metadata": {},
     "output_type": "display_data"
    },
    {
     "data": {
      "text/html": [
       "<pre>recommendations finished on 21000/105171 queries. users per second: 135.003</pre>"
      ],
      "text/plain": [
       "recommendations finished on 21000/105171 queries. users per second: 135.003"
      ]
     },
     "metadata": {},
     "output_type": "display_data"
    },
    {
     "data": {
      "text/html": [
       "<pre>recommendations finished on 22000/105171 queries. users per second: 134.993</pre>"
      ],
      "text/plain": [
       "recommendations finished on 22000/105171 queries. users per second: 134.993"
      ]
     },
     "metadata": {},
     "output_type": "display_data"
    },
    {
     "data": {
      "text/html": [
       "<pre>recommendations finished on 23000/105171 queries. users per second: 134.958</pre>"
      ],
      "text/plain": [
       "recommendations finished on 23000/105171 queries. users per second: 134.958"
      ]
     },
     "metadata": {},
     "output_type": "display_data"
    },
    {
     "data": {
      "text/html": [
       "<pre>recommendations finished on 24000/105171 queries. users per second: 134.868</pre>"
      ],
      "text/plain": [
       "recommendations finished on 24000/105171 queries. users per second: 134.868"
      ]
     },
     "metadata": {},
     "output_type": "display_data"
    },
    {
     "data": {
      "text/html": [
       "<pre>recommendations finished on 25000/105171 queries. users per second: 134.843</pre>"
      ],
      "text/plain": [
       "recommendations finished on 25000/105171 queries. users per second: 134.843"
      ]
     },
     "metadata": {},
     "output_type": "display_data"
    },
    {
     "data": {
      "text/html": [
       "<pre>recommendations finished on 26000/105171 queries. users per second: 134.829</pre>"
      ],
      "text/plain": [
       "recommendations finished on 26000/105171 queries. users per second: 134.829"
      ]
     },
     "metadata": {},
     "output_type": "display_data"
    },
    {
     "data": {
      "text/html": [
       "<pre>recommendations finished on 27000/105171 queries. users per second: 134.826</pre>"
      ],
      "text/plain": [
       "recommendations finished on 27000/105171 queries. users per second: 134.826"
      ]
     },
     "metadata": {},
     "output_type": "display_data"
    },
    {
     "data": {
      "text/html": [
       "<pre>recommendations finished on 28000/105171 queries. users per second: 134.846</pre>"
      ],
      "text/plain": [
       "recommendations finished on 28000/105171 queries. users per second: 134.846"
      ]
     },
     "metadata": {},
     "output_type": "display_data"
    },
    {
     "data": {
      "text/html": [
       "<pre>recommendations finished on 29000/105171 queries. users per second: 134.851</pre>"
      ],
      "text/plain": [
       "recommendations finished on 29000/105171 queries. users per second: 134.851"
      ]
     },
     "metadata": {},
     "output_type": "display_data"
    },
    {
     "data": {
      "text/html": [
       "<pre>recommendations finished on 30000/105171 queries. users per second: 134.865</pre>"
      ],
      "text/plain": [
       "recommendations finished on 30000/105171 queries. users per second: 134.865"
      ]
     },
     "metadata": {},
     "output_type": "display_data"
    },
    {
     "data": {
      "text/html": [
       "<pre>recommendations finished on 31000/105171 queries. users per second: 134.801</pre>"
      ],
      "text/plain": [
       "recommendations finished on 31000/105171 queries. users per second: 134.801"
      ]
     },
     "metadata": {},
     "output_type": "display_data"
    },
    {
     "data": {
      "text/html": [
       "<pre>recommendations finished on 32000/105171 queries. users per second: 134.779</pre>"
      ],
      "text/plain": [
       "recommendations finished on 32000/105171 queries. users per second: 134.779"
      ]
     },
     "metadata": {},
     "output_type": "display_data"
    },
    {
     "data": {
      "text/html": [
       "<pre>recommendations finished on 33000/105171 queries. users per second: 134.645</pre>"
      ],
      "text/plain": [
       "recommendations finished on 33000/105171 queries. users per second: 134.645"
      ]
     },
     "metadata": {},
     "output_type": "display_data"
    },
    {
     "data": {
      "text/html": [
       "<pre>recommendations finished on 34000/105171 queries. users per second: 134.461</pre>"
      ],
      "text/plain": [
       "recommendations finished on 34000/105171 queries. users per second: 134.461"
      ]
     },
     "metadata": {},
     "output_type": "display_data"
    },
    {
     "data": {
      "text/html": [
       "<pre>recommendations finished on 35000/105171 queries. users per second: 134.479</pre>"
      ],
      "text/plain": [
       "recommendations finished on 35000/105171 queries. users per second: 134.479"
      ]
     },
     "metadata": {},
     "output_type": "display_data"
    },
    {
     "data": {
      "text/html": [
       "<pre>recommendations finished on 36000/105171 queries. users per second: 134.484</pre>"
      ],
      "text/plain": [
       "recommendations finished on 36000/105171 queries. users per second: 134.484"
      ]
     },
     "metadata": {},
     "output_type": "display_data"
    },
    {
     "data": {
      "text/html": [
       "<pre>recommendations finished on 37000/105171 queries. users per second: 134.507</pre>"
      ],
      "text/plain": [
       "recommendations finished on 37000/105171 queries. users per second: 134.507"
      ]
     },
     "metadata": {},
     "output_type": "display_data"
    },
    {
     "data": {
      "text/html": [
       "<pre>recommendations finished on 38000/105171 queries. users per second: 134.514</pre>"
      ],
      "text/plain": [
       "recommendations finished on 38000/105171 queries. users per second: 134.514"
      ]
     },
     "metadata": {},
     "output_type": "display_data"
    },
    {
     "data": {
      "text/html": [
       "<pre>recommendations finished on 39000/105171 queries. users per second: 134.516</pre>"
      ],
      "text/plain": [
       "recommendations finished on 39000/105171 queries. users per second: 134.516"
      ]
     },
     "metadata": {},
     "output_type": "display_data"
    },
    {
     "data": {
      "text/html": [
       "<pre>recommendations finished on 40000/105171 queries. users per second: 134.521</pre>"
      ],
      "text/plain": [
       "recommendations finished on 40000/105171 queries. users per second: 134.521"
      ]
     },
     "metadata": {},
     "output_type": "display_data"
    },
    {
     "data": {
      "text/html": [
       "<pre>recommendations finished on 41000/105171 queries. users per second: 134.531</pre>"
      ],
      "text/plain": [
       "recommendations finished on 41000/105171 queries. users per second: 134.531"
      ]
     },
     "metadata": {},
     "output_type": "display_data"
    },
    {
     "data": {
      "text/html": [
       "<pre>recommendations finished on 42000/105171 queries. users per second: 134.521</pre>"
      ],
      "text/plain": [
       "recommendations finished on 42000/105171 queries. users per second: 134.521"
      ]
     },
     "metadata": {},
     "output_type": "display_data"
    },
    {
     "data": {
      "text/html": [
       "<pre>recommendations finished on 43000/105171 queries. users per second: 134.516</pre>"
      ],
      "text/plain": [
       "recommendations finished on 43000/105171 queries. users per second: 134.516"
      ]
     },
     "metadata": {},
     "output_type": "display_data"
    },
    {
     "data": {
      "text/html": [
       "<pre>recommendations finished on 44000/105171 queries. users per second: 134.535</pre>"
      ],
      "text/plain": [
       "recommendations finished on 44000/105171 queries. users per second: 134.535"
      ]
     },
     "metadata": {},
     "output_type": "display_data"
    },
    {
     "data": {
      "text/html": [
       "<pre>recommendations finished on 45000/105171 queries. users per second: 134.542</pre>"
      ],
      "text/plain": [
       "recommendations finished on 45000/105171 queries. users per second: 134.542"
      ]
     },
     "metadata": {},
     "output_type": "display_data"
    },
    {
     "data": {
      "text/html": [
       "<pre>recommendations finished on 46000/105171 queries. users per second: 134.552</pre>"
      ],
      "text/plain": [
       "recommendations finished on 46000/105171 queries. users per second: 134.552"
      ]
     },
     "metadata": {},
     "output_type": "display_data"
    },
    {
     "data": {
      "text/html": [
       "<pre>recommendations finished on 47000/105171 queries. users per second: 134.545</pre>"
      ],
      "text/plain": [
       "recommendations finished on 47000/105171 queries. users per second: 134.545"
      ]
     },
     "metadata": {},
     "output_type": "display_data"
    },
    {
     "data": {
      "text/html": [
       "<pre>recommendations finished on 48000/105171 queries. users per second: 134.547</pre>"
      ],
      "text/plain": [
       "recommendations finished on 48000/105171 queries. users per second: 134.547"
      ]
     },
     "metadata": {},
     "output_type": "display_data"
    },
    {
     "data": {
      "text/html": [
       "<pre>recommendations finished on 49000/105171 queries. users per second: 134.482</pre>"
      ],
      "text/plain": [
       "recommendations finished on 49000/105171 queries. users per second: 134.482"
      ]
     },
     "metadata": {},
     "output_type": "display_data"
    },
    {
     "data": {
      "text/html": [
       "<pre>recommendations finished on 50000/105171 queries. users per second: 134.467</pre>"
      ],
      "text/plain": [
       "recommendations finished on 50000/105171 queries. users per second: 134.467"
      ]
     },
     "metadata": {},
     "output_type": "display_data"
    },
    {
     "data": {
      "text/html": [
       "<pre>recommendations finished on 51000/105171 queries. users per second: 134.464</pre>"
      ],
      "text/plain": [
       "recommendations finished on 51000/105171 queries. users per second: 134.464"
      ]
     },
     "metadata": {},
     "output_type": "display_data"
    },
    {
     "data": {
      "text/html": [
       "<pre>recommendations finished on 52000/105171 queries. users per second: 134.463</pre>"
      ],
      "text/plain": [
       "recommendations finished on 52000/105171 queries. users per second: 134.463"
      ]
     },
     "metadata": {},
     "output_type": "display_data"
    },
    {
     "data": {
      "text/html": [
       "<pre>recommendations finished on 53000/105171 queries. users per second: 134.458</pre>"
      ],
      "text/plain": [
       "recommendations finished on 53000/105171 queries. users per second: 134.458"
      ]
     },
     "metadata": {},
     "output_type": "display_data"
    },
    {
     "data": {
      "text/html": [
       "<pre>recommendations finished on 54000/105171 queries. users per second: 134.452</pre>"
      ],
      "text/plain": [
       "recommendations finished on 54000/105171 queries. users per second: 134.452"
      ]
     },
     "metadata": {},
     "output_type": "display_data"
    },
    {
     "data": {
      "text/html": [
       "<pre>recommendations finished on 55000/105171 queries. users per second: 134.463</pre>"
      ],
      "text/plain": [
       "recommendations finished on 55000/105171 queries. users per second: 134.463"
      ]
     },
     "metadata": {},
     "output_type": "display_data"
    },
    {
     "data": {
      "text/html": [
       "<pre>recommendations finished on 56000/105171 queries. users per second: 134.43</pre>"
      ],
      "text/plain": [
       "recommendations finished on 56000/105171 queries. users per second: 134.43"
      ]
     },
     "metadata": {},
     "output_type": "display_data"
    },
    {
     "data": {
      "text/html": [
       "<pre>recommendations finished on 57000/105171 queries. users per second: 134.438</pre>"
      ],
      "text/plain": [
       "recommendations finished on 57000/105171 queries. users per second: 134.438"
      ]
     },
     "metadata": {},
     "output_type": "display_data"
    },
    {
     "data": {
      "text/html": [
       "<pre>recommendations finished on 58000/105171 queries. users per second: 134.436</pre>"
      ],
      "text/plain": [
       "recommendations finished on 58000/105171 queries. users per second: 134.436"
      ]
     },
     "metadata": {},
     "output_type": "display_data"
    },
    {
     "data": {
      "text/html": [
       "<pre>recommendations finished on 59000/105171 queries. users per second: 134.446</pre>"
      ],
      "text/plain": [
       "recommendations finished on 59000/105171 queries. users per second: 134.446"
      ]
     },
     "metadata": {},
     "output_type": "display_data"
    },
    {
     "data": {
      "text/html": [
       "<pre>recommendations finished on 60000/105171 queries. users per second: 134.442</pre>"
      ],
      "text/plain": [
       "recommendations finished on 60000/105171 queries. users per second: 134.442"
      ]
     },
     "metadata": {},
     "output_type": "display_data"
    },
    {
     "data": {
      "text/html": [
       "<pre>recommendations finished on 61000/105171 queries. users per second: 134.439</pre>"
      ],
      "text/plain": [
       "recommendations finished on 61000/105171 queries. users per second: 134.439"
      ]
     },
     "metadata": {},
     "output_type": "display_data"
    },
    {
     "data": {
      "text/html": [
       "<pre>recommendations finished on 62000/105171 queries. users per second: 134.443</pre>"
      ],
      "text/plain": [
       "recommendations finished on 62000/105171 queries. users per second: 134.443"
      ]
     },
     "metadata": {},
     "output_type": "display_data"
    },
    {
     "data": {
      "text/html": [
       "<pre>recommendations finished on 63000/105171 queries. users per second: 134.451</pre>"
      ],
      "text/plain": [
       "recommendations finished on 63000/105171 queries. users per second: 134.451"
      ]
     },
     "metadata": {},
     "output_type": "display_data"
    },
    {
     "data": {
      "text/html": [
       "<pre>recommendations finished on 64000/105171 queries. users per second: 134.448</pre>"
      ],
      "text/plain": [
       "recommendations finished on 64000/105171 queries. users per second: 134.448"
      ]
     },
     "metadata": {},
     "output_type": "display_data"
    },
    {
     "data": {
      "text/html": [
       "<pre>recommendations finished on 65000/105171 queries. users per second: 134.421</pre>"
      ],
      "text/plain": [
       "recommendations finished on 65000/105171 queries. users per second: 134.421"
      ]
     },
     "metadata": {},
     "output_type": "display_data"
    },
    {
     "data": {
      "text/html": [
       "<pre>recommendations finished on 66000/105171 queries. users per second: 134.374</pre>"
      ],
      "text/plain": [
       "recommendations finished on 66000/105171 queries. users per second: 134.374"
      ]
     },
     "metadata": {},
     "output_type": "display_data"
    },
    {
     "data": {
      "text/html": [
       "<pre>recommendations finished on 67000/105171 queries. users per second: 134.382</pre>"
      ],
      "text/plain": [
       "recommendations finished on 67000/105171 queries. users per second: 134.382"
      ]
     },
     "metadata": {},
     "output_type": "display_data"
    },
    {
     "data": {
      "text/html": [
       "<pre>recommendations finished on 68000/105171 queries. users per second: 134.384</pre>"
      ],
      "text/plain": [
       "recommendations finished on 68000/105171 queries. users per second: 134.384"
      ]
     },
     "metadata": {},
     "output_type": "display_data"
    },
    {
     "data": {
      "text/html": [
       "<pre>recommendations finished on 69000/105171 queries. users per second: 134.386</pre>"
      ],
      "text/plain": [
       "recommendations finished on 69000/105171 queries. users per second: 134.386"
      ]
     },
     "metadata": {},
     "output_type": "display_data"
    },
    {
     "data": {
      "text/html": [
       "<pre>recommendations finished on 70000/105171 queries. users per second: 134.383</pre>"
      ],
      "text/plain": [
       "recommendations finished on 70000/105171 queries. users per second: 134.383"
      ]
     },
     "metadata": {},
     "output_type": "display_data"
    },
    {
     "data": {
      "text/html": [
       "<pre>recommendations finished on 71000/105171 queries. users per second: 134.384</pre>"
      ],
      "text/plain": [
       "recommendations finished on 71000/105171 queries. users per second: 134.384"
      ]
     },
     "metadata": {},
     "output_type": "display_data"
    },
    {
     "data": {
      "text/html": [
       "<pre>recommendations finished on 72000/105171 queries. users per second: 134.39</pre>"
      ],
      "text/plain": [
       "recommendations finished on 72000/105171 queries. users per second: 134.39"
      ]
     },
     "metadata": {},
     "output_type": "display_data"
    },
    {
     "data": {
      "text/html": [
       "<pre>recommendations finished on 73000/105171 queries. users per second: 134.398</pre>"
      ],
      "text/plain": [
       "recommendations finished on 73000/105171 queries. users per second: 134.398"
      ]
     },
     "metadata": {},
     "output_type": "display_data"
    },
    {
     "data": {
      "text/html": [
       "<pre>recommendations finished on 74000/105171 queries. users per second: 134.381</pre>"
      ],
      "text/plain": [
       "recommendations finished on 74000/105171 queries. users per second: 134.381"
      ]
     },
     "metadata": {},
     "output_type": "display_data"
    },
    {
     "data": {
      "text/html": [
       "<pre>recommendations finished on 75000/105171 queries. users per second: 134.386</pre>"
      ],
      "text/plain": [
       "recommendations finished on 75000/105171 queries. users per second: 134.386"
      ]
     },
     "metadata": {},
     "output_type": "display_data"
    },
    {
     "data": {
      "text/html": [
       "<pre>recommendations finished on 76000/105171 queries. users per second: 134.39</pre>"
      ],
      "text/plain": [
       "recommendations finished on 76000/105171 queries. users per second: 134.39"
      ]
     },
     "metadata": {},
     "output_type": "display_data"
    },
    {
     "data": {
      "text/html": [
       "<pre>recommendations finished on 77000/105171 queries. users per second: 134.393</pre>"
      ],
      "text/plain": [
       "recommendations finished on 77000/105171 queries. users per second: 134.393"
      ]
     },
     "metadata": {},
     "output_type": "display_data"
    },
    {
     "data": {
      "text/html": [
       "<pre>recommendations finished on 78000/105171 queries. users per second: 134.382</pre>"
      ],
      "text/plain": [
       "recommendations finished on 78000/105171 queries. users per second: 134.382"
      ]
     },
     "metadata": {},
     "output_type": "display_data"
    },
    {
     "data": {
      "text/html": [
       "<pre>recommendations finished on 79000/105171 queries. users per second: 134.376</pre>"
      ],
      "text/plain": [
       "recommendations finished on 79000/105171 queries. users per second: 134.376"
      ]
     },
     "metadata": {},
     "output_type": "display_data"
    },
    {
     "data": {
      "text/html": [
       "<pre>recommendations finished on 80000/105171 queries. users per second: 134.38</pre>"
      ],
      "text/plain": [
       "recommendations finished on 80000/105171 queries. users per second: 134.38"
      ]
     },
     "metadata": {},
     "output_type": "display_data"
    },
    {
     "data": {
      "text/html": [
       "<pre>recommendations finished on 81000/105171 queries. users per second: 134.379</pre>"
      ],
      "text/plain": [
       "recommendations finished on 81000/105171 queries. users per second: 134.379"
      ]
     },
     "metadata": {},
     "output_type": "display_data"
    },
    {
     "data": {
      "text/html": [
       "<pre>recommendations finished on 82000/105171 queries. users per second: 134.317</pre>"
      ],
      "text/plain": [
       "recommendations finished on 82000/105171 queries. users per second: 134.317"
      ]
     },
     "metadata": {},
     "output_type": "display_data"
    },
    {
     "data": {
      "text/html": [
       "<pre>recommendations finished on 83000/105171 queries. users per second: 134.317</pre>"
      ],
      "text/plain": [
       "recommendations finished on 83000/105171 queries. users per second: 134.317"
      ]
     },
     "metadata": {},
     "output_type": "display_data"
    },
    {
     "data": {
      "text/html": [
       "<pre>recommendations finished on 84000/105171 queries. users per second: 134.323</pre>"
      ],
      "text/plain": [
       "recommendations finished on 84000/105171 queries. users per second: 134.323"
      ]
     },
     "metadata": {},
     "output_type": "display_data"
    },
    {
     "data": {
      "text/html": [
       "<pre>recommendations finished on 85000/105171 queries. users per second: 134.319</pre>"
      ],
      "text/plain": [
       "recommendations finished on 85000/105171 queries. users per second: 134.319"
      ]
     },
     "metadata": {},
     "output_type": "display_data"
    },
    {
     "data": {
      "text/html": [
       "<pre>recommendations finished on 86000/105171 queries. users per second: 134.323</pre>"
      ],
      "text/plain": [
       "recommendations finished on 86000/105171 queries. users per second: 134.323"
      ]
     },
     "metadata": {},
     "output_type": "display_data"
    },
    {
     "data": {
      "text/html": [
       "<pre>recommendations finished on 87000/105171 queries. users per second: 134.234</pre>"
      ],
      "text/plain": [
       "recommendations finished on 87000/105171 queries. users per second: 134.234"
      ]
     },
     "metadata": {},
     "output_type": "display_data"
    },
    {
     "data": {
      "text/html": [
       "<pre>recommendations finished on 88000/105171 queries. users per second: 134.209</pre>"
      ],
      "text/plain": [
       "recommendations finished on 88000/105171 queries. users per second: 134.209"
      ]
     },
     "metadata": {},
     "output_type": "display_data"
    },
    {
     "data": {
      "text/html": [
       "<pre>recommendations finished on 89000/105171 queries. users per second: 134.114</pre>"
      ],
      "text/plain": [
       "recommendations finished on 89000/105171 queries. users per second: 134.114"
      ]
     },
     "metadata": {},
     "output_type": "display_data"
    },
    {
     "data": {
      "text/html": [
       "<pre>recommendations finished on 90000/105171 queries. users per second: 134.107</pre>"
      ],
      "text/plain": [
       "recommendations finished on 90000/105171 queries. users per second: 134.107"
      ]
     },
     "metadata": {},
     "output_type": "display_data"
    },
    {
     "data": {
      "text/html": [
       "<pre>recommendations finished on 91000/105171 queries. users per second: 133.99</pre>"
      ],
      "text/plain": [
       "recommendations finished on 91000/105171 queries. users per second: 133.99"
      ]
     },
     "metadata": {},
     "output_type": "display_data"
    },
    {
     "data": {
      "text/html": [
       "<pre>recommendations finished on 92000/105171 queries. users per second: 133.811</pre>"
      ],
      "text/plain": [
       "recommendations finished on 92000/105171 queries. users per second: 133.811"
      ]
     },
     "metadata": {},
     "output_type": "display_data"
    },
    {
     "data": {
      "text/html": [
       "<pre>recommendations finished on 93000/105171 queries. users per second: 133.773</pre>"
      ],
      "text/plain": [
       "recommendations finished on 93000/105171 queries. users per second: 133.773"
      ]
     },
     "metadata": {},
     "output_type": "display_data"
    },
    {
     "data": {
      "text/html": [
       "<pre>recommendations finished on 94000/105171 queries. users per second: 133.696</pre>"
      ],
      "text/plain": [
       "recommendations finished on 94000/105171 queries. users per second: 133.696"
      ]
     },
     "metadata": {},
     "output_type": "display_data"
    },
    {
     "data": {
      "text/html": [
       "<pre>recommendations finished on 95000/105171 queries. users per second: 133.562</pre>"
      ],
      "text/plain": [
       "recommendations finished on 95000/105171 queries. users per second: 133.562"
      ]
     },
     "metadata": {},
     "output_type": "display_data"
    },
    {
     "data": {
      "text/html": [
       "<pre>recommendations finished on 96000/105171 queries. users per second: 133.484</pre>"
      ],
      "text/plain": [
       "recommendations finished on 96000/105171 queries. users per second: 133.484"
      ]
     },
     "metadata": {},
     "output_type": "display_data"
    },
    {
     "data": {
      "text/html": [
       "<pre>recommendations finished on 97000/105171 queries. users per second: 133.409</pre>"
      ],
      "text/plain": [
       "recommendations finished on 97000/105171 queries. users per second: 133.409"
      ]
     },
     "metadata": {},
     "output_type": "display_data"
    },
    {
     "data": {
      "text/html": [
       "<pre>recommendations finished on 98000/105171 queries. users per second: 133.346</pre>"
      ],
      "text/plain": [
       "recommendations finished on 98000/105171 queries. users per second: 133.346"
      ]
     },
     "metadata": {},
     "output_type": "display_data"
    },
    {
     "data": {
      "text/html": [
       "<pre>recommendations finished on 99000/105171 queries. users per second: 133.239</pre>"
      ],
      "text/plain": [
       "recommendations finished on 99000/105171 queries. users per second: 133.239"
      ]
     },
     "metadata": {},
     "output_type": "display_data"
    },
    {
     "data": {
      "text/html": [
       "<pre>recommendations finished on 100000/105171 queries. users per second: 133.176</pre>"
      ],
      "text/plain": [
       "recommendations finished on 100000/105171 queries. users per second: 133.176"
      ]
     },
     "metadata": {},
     "output_type": "display_data"
    },
    {
     "data": {
      "text/html": [
       "<pre>recommendations finished on 101000/105171 queries. users per second: 133.052</pre>"
      ],
      "text/plain": [
       "recommendations finished on 101000/105171 queries. users per second: 133.052"
      ]
     },
     "metadata": {},
     "output_type": "display_data"
    },
    {
     "data": {
      "text/html": [
       "<pre>recommendations finished on 102000/105171 queries. users per second: 132.905</pre>"
      ],
      "text/plain": [
       "recommendations finished on 102000/105171 queries. users per second: 132.905"
      ]
     },
     "metadata": {},
     "output_type": "display_data"
    },
    {
     "data": {
      "text/html": [
       "<pre>recommendations finished on 103000/105171 queries. users per second: 132.788</pre>"
      ],
      "text/plain": [
       "recommendations finished on 103000/105171 queries. users per second: 132.788"
      ]
     },
     "metadata": {},
     "output_type": "display_data"
    },
    {
     "data": {
      "text/html": [
       "<pre>recommendations finished on 104000/105171 queries. users per second: 132.773</pre>"
      ],
      "text/plain": [
       "recommendations finished on 104000/105171 queries. users per second: 132.773"
      ]
     },
     "metadata": {},
     "output_type": "display_data"
    },
    {
     "data": {
      "text/html": [
       "<pre>recommendations finished on 105000/105171 queries. users per second: 132.758</pre>"
      ],
      "text/plain": [
       "recommendations finished on 105000/105171 queries. users per second: 132.758"
      ]
     },
     "metadata": {},
     "output_type": "display_data"
    }
   ],
   "source": [
    "\n",
    "# grab the results of the model\n",
    "results = model.recommend();"
   ]
  },
  {
   "cell_type": "code",
   "execution_count": 9,
   "metadata": {},
   "outputs": [
    {
     "data": {
      "text/html": [
       "<div style=\"max-height:1000px;max-width:1500px;overflow:auto;\"><table frame=\"box\" rules=\"cols\">\n",
       "    <tr>\n",
       "        <th style=\"padding-left: 1em; padding-right: 1em; text-align: center\">User-ID</th>\n",
       "        <th style=\"padding-left: 1em; padding-right: 1em; text-align: center\">ISBN</th>\n",
       "        <th style=\"padding-left: 1em; padding-right: 1em; text-align: center\">score</th>\n",
       "        <th style=\"padding-left: 1em; padding-right: 1em; text-align: center\">rank</th>\n",
       "    </tr>\n",
       "    <tr>\n",
       "        <td style=\"padding-left: 1em; padding-right: 1em; text-align: center; vertical-align: top\">276725</td>\n",
       "        <td style=\"padding-left: 1em; padding-right: 1em; text-align: center; vertical-align: top\">0439139597</td>\n",
       "        <td style=\"padding-left: 1em; padding-right: 1em; text-align: center; vertical-align: top\">7.609544747033711</td>\n",
       "        <td style=\"padding-left: 1em; padding-right: 1em; text-align: center; vertical-align: top\">1</td>\n",
       "    </tr>\n",
       "    <tr>\n",
       "        <td style=\"padding-left: 1em; padding-right: 1em; text-align: center; vertical-align: top\">276725</td>\n",
       "        <td style=\"padding-left: 1em; padding-right: 1em; text-align: center; vertical-align: top\">0439064864</td>\n",
       "        <td style=\"padding-left: 1em; padding-right: 1em; text-align: center; vertical-align: top\">7.574085705438252</td>\n",
       "        <td style=\"padding-left: 1em; padding-right: 1em; text-align: center; vertical-align: top\">2</td>\n",
       "    </tr>\n",
       "    <tr>\n",
       "        <td style=\"padding-left: 1em; padding-right: 1em; text-align: center; vertical-align: top\">276725</td>\n",
       "        <td style=\"padding-left: 1em; padding-right: 1em; text-align: center; vertical-align: top\">0060256672</td>\n",
       "        <td style=\"padding-left: 1em; padding-right: 1em; text-align: center; vertical-align: top\">7.406837933221455</td>\n",
       "        <td style=\"padding-left: 1em; padding-right: 1em; text-align: center; vertical-align: top\">3</td>\n",
       "    </tr>\n",
       "    <tr>\n",
       "        <td style=\"padding-left: 1em; padding-right: 1em; text-align: center; vertical-align: top\">276725</td>\n",
       "        <td style=\"padding-left: 1em; padding-right: 1em; text-align: center; vertical-align: top\">0920668372</td>\n",
       "        <td style=\"padding-left: 1em; padding-right: 1em; text-align: center; vertical-align: top\">7.363597386041279</td>\n",
       "        <td style=\"padding-left: 1em; padding-right: 1em; text-align: center; vertical-align: top\">4</td>\n",
       "    </tr>\n",
       "    <tr>\n",
       "        <td style=\"padding-left: 1em; padding-right: 1em; text-align: center; vertical-align: top\">276725</td>\n",
       "        <td style=\"padding-left: 1em; padding-right: 1em; text-align: center; vertical-align: top\">0060248025</td>\n",
       "        <td style=\"padding-left: 1em; padding-right: 1em; text-align: center; vertical-align: top\">7.20343827501833</td>\n",
       "        <td style=\"padding-left: 1em; padding-right: 1em; text-align: center; vertical-align: top\">5</td>\n",
       "    </tr>\n",
       "    <tr>\n",
       "        <td style=\"padding-left: 1em; padding-right: 1em; text-align: center; vertical-align: top\">276725</td>\n",
       "        <td style=\"padding-left: 1em; padding-right: 1em; text-align: center; vertical-align: top\">0553375407</td>\n",
       "        <td style=\"padding-left: 1em; padding-right: 1em; text-align: center; vertical-align: top\">7.18140982882082</td>\n",
       "        <td style=\"padding-left: 1em; padding-right: 1em; text-align: center; vertical-align: top\">6</td>\n",
       "    </tr>\n",
       "    <tr>\n",
       "        <td style=\"padding-left: 1em; padding-right: 1em; text-align: center; vertical-align: top\">276725</td>\n",
       "        <td style=\"padding-left: 1em; padding-right: 1em; text-align: center; vertical-align: top\">0786817070</td>\n",
       "        <td style=\"padding-left: 1em; padding-right: 1em; text-align: center; vertical-align: top\">7.176081650415059</td>\n",
       "        <td style=\"padding-left: 1em; padding-right: 1em; text-align: center; vertical-align: top\">7</td>\n",
       "    </tr>\n",
       "    <tr>\n",
       "        <td style=\"padding-left: 1em; padding-right: 1em; text-align: center; vertical-align: top\">276725</td>\n",
       "        <td style=\"padding-left: 1em; padding-right: 1em; text-align: center; vertical-align: top\">0345444884</td>\n",
       "        <td style=\"padding-left: 1em; padding-right: 1em; text-align: center; vertical-align: top\">7.129745476403828</td>\n",
       "        <td style=\"padding-left: 1em; padding-right: 1em; text-align: center; vertical-align: top\">8</td>\n",
       "    </tr>\n",
       "    <tr>\n",
       "        <td style=\"padding-left: 1em; padding-right: 1em; text-align: center; vertical-align: top\">276725</td>\n",
       "        <td style=\"padding-left: 1em; padding-right: 1em; text-align: center; vertical-align: top\">0618129022</td>\n",
       "        <td style=\"padding-left: 1em; padding-right: 1em; text-align: center; vertical-align: top\">7.129537098565693</td>\n",
       "        <td style=\"padding-left: 1em; padding-right: 1em; text-align: center; vertical-align: top\">9</td>\n",
       "    </tr>\n",
       "    <tr>\n",
       "        <td style=\"padding-left: 1em; padding-right: 1em; text-align: center; vertical-align: top\">276725</td>\n",
       "        <td style=\"padding-left: 1em; padding-right: 1em; text-align: center; vertical-align: top\">0451167716</td>\n",
       "        <td style=\"padding-left: 1em; padding-right: 1em; text-align: center; vertical-align: top\">6.969716541925068</td>\n",
       "        <td style=\"padding-left: 1em; padding-right: 1em; text-align: center; vertical-align: top\">10</td>\n",
       "    </tr>\n",
       "</table>\n",
       "[1051710 rows x 4 columns]<br/>Note: Only the head of the SFrame is printed.<br/>You can use print_rows(num_rows=m, num_columns=n) to print more rows and columns.\n",
       "</div>"
      ],
      "text/plain": [
       "Columns:\n",
       "\tUser-ID\tint\n",
       "\tISBN\tstr\n",
       "\tscore\tfloat\n",
       "\trank\tint\n",
       "\n",
       "Rows: 1051710\n",
       "\n",
       "Data:\n",
       "+---------+------------+-------------------+------+\n",
       "| User-ID |    ISBN    |       score       | rank |\n",
       "+---------+------------+-------------------+------+\n",
       "|  276725 | 0439139597 | 7.609544747033711 |  1   |\n",
       "|  276725 | 0439064864 | 7.574085705438252 |  2   |\n",
       "|  276725 | 0060256672 | 7.406837933221455 |  3   |\n",
       "|  276725 | 0920668372 | 7.363597386041279 |  4   |\n",
       "|  276725 | 0060248025 |  7.20343827501833 |  5   |\n",
       "|  276725 | 0553375407 |  7.18140982882082 |  6   |\n",
       "|  276725 | 0786817070 | 7.176081650415059 |  7   |\n",
       "|  276725 | 0345444884 | 7.129745476403828 |  8   |\n",
       "|  276725 | 0618129022 | 7.129537098565693 |  9   |\n",
       "|  276725 | 0451167716 | 6.969716541925068 |  10  |\n",
       "+---------+------------+-------------------+------+\n",
       "[1051710 rows x 4 columns]\n",
       "Note: Only the head of the SFrame is printed.\n",
       "You can use print_rows(num_rows=m, num_columns=n) to print more rows and columns."
      ]
     },
     "execution_count": 9,
     "metadata": {},
     "output_type": "execute_result"
    }
   ],
   "source": [
    "results"
   ]
  },
  {
   "cell_type": "code",
   "execution_count": 10,
   "metadata": {},
   "outputs": [
    {
     "name": "stdout",
     "output_type": "stream",
     "text": [
      "\n",
      "Precision and recall summary statistics by cutoff\n",
      "+--------+-----------------------+------------------------+\n",
      "| cutoff |     mean_precision    |      mean_recall       |\n",
      "+--------+-----------------------+------------------------+\n",
      "|   1    |          0.0          |          0.0           |\n",
      "|   2    | 0.0024449877750611225 | 0.00033958163542515616 |\n",
      "|   3    | 0.0016299918500407512 | 0.00033958163542515616 |\n",
      "|   4    | 0.0018337408312958418 | 0.0009508285791904379  |\n",
      "|   5    |  0.001466992665036675 | 0.0009508285791904379  |\n",
      "|   6    | 0.0012224938875305613 | 0.0009508285791904379  |\n",
      "|   7    | 0.0010478519035976262 | 0.0009508285791904379  |\n",
      "|   8    | 0.0009168704156479209 | 0.0009508285791904379  |\n",
      "|   9    | 0.0008149959250203756 | 0.0009508285791904379  |\n",
      "|   10   | 0.0012224938875305621 |  0.004007063298016841  |\n",
      "+--------+-----------------------+------------------------+\n",
      "[10 rows x 3 columns]\n",
      "\n",
      "\n",
      "Overall RMSE: 5.928057193577113\n",
      "\n",
      "Per User RMSE (best)\n",
      "+---------+----------------------+-------+\n",
      "| User-ID |         rmse         | count |\n",
      "+---------+----------------------+-------+\n",
      "|  78229  | 0.009264006754760246 |   1   |\n",
      "+---------+----------------------+-------+\n",
      "[1 rows x 3 columns]\n",
      "\n",
      "\n",
      "Per User RMSE (worst)\n",
      "+---------+--------------------+-------+\n",
      "| User-ID |        rmse        | count |\n",
      "+---------+--------------------+-------+\n",
      "|  132836 | 11.570801508410536 |   34  |\n",
      "+---------+--------------------+-------+\n",
      "[1 rows x 3 columns]\n",
      "\n",
      "\n",
      "Per Item RMSE (best)\n",
      "+------------+-----------------------+-------+\n",
      "|    ISBN    |          rmse         | count |\n",
      "+------------+-----------------------+-------+\n",
      "| 1551666855 | 0.0020784367710309226 |   1   |\n",
      "+------------+-----------------------+-------+\n",
      "[1 rows x 3 columns]\n",
      "\n",
      "\n",
      "Per Item RMSE (worst)\n",
      "+------------+-------------------+-------+\n",
      "|    ISBN    |        rmse       | count |\n",
      "+------------+-------------------+-------+\n",
      "| 0394895894 | 21.79412031873167 |   1   |\n",
      "+------------+-------------------+-------+\n",
      "[1 rows x 3 columns]\n",
      "\n"
     ]
    },
    {
     "data": {
      "text/plain": [
       "{'precision_recall_by_user': Columns:\n",
       " \tUser-ID\tint\n",
       " \tcutoff\tint\n",
       " \tprecision\tfloat\n",
       " \trecall\tfloat\n",
       " \tcount\tint\n",
       " \n",
       " Rows: 7362\n",
       " \n",
       " Data:\n",
       " +---------+--------+-----------+--------+-------+\n",
       " | User-ID | cutoff | precision | recall | count |\n",
       " +---------+--------+-----------+--------+-------+\n",
       " |    9    |   1    |    0.0    |  0.0   |   1   |\n",
       " |    9    |   2    |    0.0    |  0.0   |   1   |\n",
       " |    9    |   3    |    0.0    |  0.0   |   1   |\n",
       " |    9    |   4    |    0.0    |  0.0   |   1   |\n",
       " |    9    |   5    |    0.0    |  0.0   |   1   |\n",
       " |    9    |   6    |    0.0    |  0.0   |   1   |\n",
       " |    9    |   7    |    0.0    |  0.0   |   1   |\n",
       " |    9    |   8    |    0.0    |  0.0   |   1   |\n",
       " |    9    |   9    |    0.0    |  0.0   |   1   |\n",
       " |    9    |   10   |    0.0    |  0.0   |   1   |\n",
       " +---------+--------+-----------+--------+-------+\n",
       " [7362 rows x 5 columns]\n",
       " Note: Only the head of the SFrame is printed.\n",
       " You can use print_rows(num_rows=m, num_columns=n) to print more rows and columns.,\n",
       " 'precision_recall_overall': Columns:\n",
       " \tcutoff\tint\n",
       " \tprecision\tfloat\n",
       " \trecall\tfloat\n",
       " \n",
       " Rows: 18\n",
       " \n",
       " Data:\n",
       " +--------+-----------------------+------------------------+\n",
       " | cutoff |       precision       |         recall         |\n",
       " +--------+-----------------------+------------------------+\n",
       " |   1    |          0.0          |          0.0           |\n",
       " |   2    | 0.0024449877750611234 | 0.00033958163542515616 |\n",
       " |   3    | 0.0016299918500407512 | 0.00033958163542515616 |\n",
       " |   4    | 0.0018337408312958418 | 0.0009508285791904379  |\n",
       " |   5    | 0.0014669926650366758 | 0.0009508285791904379  |\n",
       " |   6    | 0.0012224938875305621 | 0.0009508285791904379  |\n",
       " |   7    |  0.001047851903597626 | 0.0009508285791904379  |\n",
       " |   8    | 0.0009168704156479209 | 0.0009508285791904379  |\n",
       " |   9    | 0.0008149959250203754 | 0.0009508285791904379  |\n",
       " |   10   | 0.0012224938875305621 |  0.004007063298016845  |\n",
       " +--------+-----------------------+------------------------+\n",
       " [18 rows x 3 columns]\n",
       " Note: Only the head of the SFrame is printed.\n",
       " You can use print_rows(num_rows=m, num_columns=n) to print more rows and columns.,\n",
       " 'rmse_by_user': Columns:\n",
       " \tUser-ID\tint\n",
       " \trmse\tfloat\n",
       " \tcount\tint\n",
       " \n",
       " Rows: 409\n",
       " \n",
       " Data:\n",
       " +---------+--------------------+-------+\n",
       " | User-ID |        rmse        | count |\n",
       " +---------+--------------------+-------+\n",
       " |  103094 | 4.3306559403330045 |   1   |\n",
       " |  31550  | 1.4979972769409375 |   1   |\n",
       " |  140661 | 2.6433120821505742 |   1   |\n",
       " |  85554  | 5.078810753641798  |   5   |\n",
       " |  206710 | 0.849273529359694  |   1   |\n",
       " |  132836 | 11.570801508410536 |   34  |\n",
       " |  250359 | 3.7643946630745164 |   36  |\n",
       " |  236283 | 7.455880825605977  |  267  |\n",
       " |  40052  | 3.9019648931381044 |   3   |\n",
       " |  169462 | 1.8644791911453051 |   1   |\n",
       " +---------+--------------------+-------+\n",
       " [409 rows x 3 columns]\n",
       " Note: Only the head of the SFrame is printed.\n",
       " You can use print_rows(num_rows=m, num_columns=n) to print more rows and columns.,\n",
       " 'rmse_by_item': Columns:\n",
       " \tISBN\tstr\n",
       " \trmse\tfloat\n",
       " \tcount\tint\n",
       " \n",
       " Rows: 2418\n",
       " \n",
       " Data:\n",
       " +------------+--------------------+-------+\n",
       " |    ISBN    |        rmse        | count |\n",
       " +------------+--------------------+-------+\n",
       " | 0515113719 | 1.8472347785621839 |   1   |\n",
       " | 0380711524 | 1.8724339078277392 |   1   |\n",
       " | 0373225342 | 10.941611812925343 |   1   |\n",
       " | 0312926294 | 12.277130595883731 |   1   |\n",
       " | 0373169779 | 3.7215620945304675 |   1   |\n",
       " | 0310239621 | 4.922121949037914  |   1   |\n",
       " | 0451205707 | 1.2322570155471606 |   1   |\n",
       " | 0425135721 |  4.93569027678072  |   1   |\n",
       " | 0141305959 | 14.869660548409824 |   1   |\n",
       " | 0670878847 | 0.7171114753097338 |   1   |\n",
       " +------------+--------------------+-------+\n",
       " [2418 rows x 3 columns]\n",
       " Note: Only the head of the SFrame is printed.\n",
       " You can use print_rows(num_rows=m, num_columns=n) to print more rows and columns.,\n",
       " 'rmse_overall': 5.928057193577113}"
      ]
     },
     "execution_count": 10,
     "metadata": {},
     "output_type": "execute_result"
    }
   ],
   "source": [
    "model.evaluate(validation_data)"
   ]
  },
  {
   "cell_type": "code",
   "execution_count": null,
   "metadata": {},
   "outputs": [],
   "source": []
  }
 ],
 "metadata": {
  "kernelspec": {
   "display_name": "Python 3",
   "language": "python",
   "name": "python3"
  },
  "language_info": {
   "codemirror_mode": {
    "name": "ipython",
    "version": 3
   },
   "file_extension": ".py",
   "mimetype": "text/x-python",
   "name": "python",
   "nbconvert_exporter": "python",
   "pygments_lexer": "ipython3",
   "version": "3.6.6"
  }
 },
 "nbformat": 4,
 "nbformat_minor": 2
}
