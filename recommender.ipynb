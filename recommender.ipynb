{
 "cells": [
  {
   "cell_type": "markdown",
   "metadata": {},
   "source": [
    "# **TuriCreate Recommender Model**\n",
    "The following notebook includes an example of data import, model training and validation evaluation."
   ]
  },
  {
   "cell_type": "code",
   "execution_count": 1,
   "metadata": {},
   "outputs": [],
   "source": [
    "import turicreate as tc\n",
    "import pandas as pd\n",
    "import time\n",
    "#from skafossdk import *\n",
    "import common.save_models as sm"
   ]
  },
  {
   "cell_type": "markdown",
   "metadata": {},
   "source": [
    "## **The Data**\n",
    "There are 2 main data inputs for a recommender model:\n",
    "- **items**: items that we want to recommend to a given user, ex. apples\n",
    "- **actions**: actions users have taken on items, ex. John bought apples\n",
    "\n",
    "In our example here, we have movies (items) and ratings by users on those movies(actions)."
   ]
  },
  {
   "cell_type": "code",
   "execution_count": 2,
   "metadata": {},
   "outputs": [],
   "source": [
    "%%capture \n",
    "actions = tc.SFrame.read_csv('https://s3.amazonaws.com/skafos.example.data/MovieLensDataset/ml-20m/ratings.csv'); \n",
    "items = tc.SFrame.read_csv('https://s3.amazonaws.com/skafos.example.data/MovieLensDataset/ml-20m/movies.csv');"
   ]
  },
  {
   "cell_type": "code",
   "execution_count": 3,
   "metadata": {},
   "outputs": [],
   "source": [
    "pd_actions = actions.to_dataframe()\n",
    "sample_user_ids = pd.Series(pd_actions['userId'].unique()).sample(10000)\n",
    "actions = tc.SFrame(pd_actions[pd_actions['userId'].isin(sample_user_ids)])"
   ]
  },
  {
   "cell_type": "code",
   "execution_count": 4,
   "metadata": {},
   "outputs": [],
   "source": [
    "%%capture \n",
    "# split the training and validation sets up\n",
    "training_data, validation_data = tc.recommender.util.random_split_by_user(actions, 'userId', 'movieId')"
   ]
  },
  {
   "cell_type": "code",
   "execution_count": 5,
   "metadata": {},
   "outputs": [],
   "source": [
    "%%capture \n",
    "# build the recommender\n",
    "model = tc.recommender.create(training_data, 'userId', 'movieId')"
   ]
  },
  {
   "cell_type": "code",
   "execution_count": 6,
   "metadata": {},
   "outputs": [],
   "source": [
    "%%capture\n",
    "# grab the results of the model\n",
    "results = model.recommend();"
   ]
  },
  {
   "cell_type": "code",
   "execution_count": 7,
   "metadata": {},
   "outputs": [
    {
     "name": "stdout",
     "output_type": "stream",
     "text": [
      "+--------+---------+--------+------------+\n",
      "| userId | movieId | rating | timestamp  |\n",
      "+--------+---------+--------+------------+\n",
      "|  197   |    50   |  4.5   | 1360869306 |\n",
      "|  311   |    15   |  1.0   | 982512302  |\n",
      "|  311   |    50   |  5.0   | 982512890  |\n",
      "|  311   |   160   |  1.0   | 982512369  |\n",
      "|  311   |   204   |  3.0   | 982511941  |\n",
      "|  311   |   327   |  1.0   | 982512444  |\n",
      "|  311   |   377   |  4.0   | 982511341  |\n",
      "|  311   |   379   |  2.0   | 982512038  |\n",
      "|  311   |   442   |  3.0   | 982512204  |\n",
      "|  311   |   464   |  3.0   | 982511777  |\n",
      "+--------+---------+--------+------------+\n",
      "[31446 rows x 4 columns]\n",
      "\n"
     ]
    }
   ],
   "source": [
    "# print the validation data\n",
    "validation_data.print_rows(num_rows=10)"
   ]
  },
  {
   "cell_type": "code",
   "execution_count": 8,
   "metadata": {},
   "outputs": [
    {
     "name": "stderr",
     "output_type": "stream",
     "text": [
      "WARNING:root:Model trained without a target. Skipping RMSE computation.\n"
     ]
    },
    {
     "name": "stdout",
     "output_type": "stream",
     "text": [
      "\n",
      "Precision and recall summary statistics by cutoff\n",
      "+--------+---------------------+----------------------+\n",
      "| cutoff |    mean_precision   |     mean_recall      |\n",
      "+--------+---------------------+----------------------+\n",
      "|   1    |  0.108108108108108  | 0.002364968897897846 |\n",
      "|   2    | 0.10360360360360361 | 0.005659827258681899 |\n",
      "|   3    | 0.10443777110443779 | 0.009543169542703336 |\n",
      "|   4    | 0.10435435435435433 | 0.014361621897442915 |\n",
      "|   5    | 0.10450450450450448 | 0.018888683650579035 |\n",
      "|   6    | 0.10927594260927605 | 0.023959281802789098 |\n",
      "|   7    | 0.11297011297011299 | 0.029681887378519574 |\n",
      "|   8    | 0.11774274274274286 | 0.03586178940005085  |\n",
      "|   9    | 0.11911911911911911 | 0.04163323765320732  |\n",
      "|   10   | 0.12042042042042055 | 0.04712799440584593  |\n",
      "+--------+---------------------+----------------------+\n",
      "[10 rows x 3 columns]\n",
      "\n"
     ]
    },
    {
     "data": {
      "text/plain": [
       "{'precision_recall_by_user': Columns:\n",
       " \tuserId\tint\n",
       " \tcutoff\tint\n",
       " \tprecision\tfloat\n",
       " \trecall\tfloat\n",
       " \tcount\tint\n",
       " \n",
       " Rows: 17982\n",
       " \n",
       " Data:\n",
       " +--------+--------+-----------+--------+-------+\n",
       " | userId | cutoff | precision | recall | count |\n",
       " +--------+--------+-----------+--------+-------+\n",
       " |  197   |   1    |    0.0    |  0.0   |   1   |\n",
       " |  197   |   2    |    0.0    |  0.0   |   1   |\n",
       " |  197   |   3    |    0.0    |  0.0   |   1   |\n",
       " |  197   |   4    |    0.0    |  0.0   |   1   |\n",
       " |  197   |   5    |    0.0    |  0.0   |   1   |\n",
       " |  197   |   6    |    0.0    |  0.0   |   1   |\n",
       " |  197   |   7    |    0.0    |  0.0   |   1   |\n",
       " |  197   |   8    |    0.0    |  0.0   |   1   |\n",
       " |  197   |   9    |    0.0    |  0.0   |   1   |\n",
       " |  197   |   10   |    0.0    |  0.0   |   1   |\n",
       " +--------+--------+-----------+--------+-------+\n",
       " [17982 rows x 5 columns]\n",
       " Note: Only the head of the SFrame is printed.\n",
       " You can use print_rows(num_rows=m, num_columns=n) to print more rows and columns.,\n",
       " 'precision_recall_overall': Columns:\n",
       " \tcutoff\tint\n",
       " \tprecision\tfloat\n",
       " \trecall\tfloat\n",
       " \n",
       " Rows: 18\n",
       " \n",
       " Data:\n",
       " +--------+---------------------+-----------------------+\n",
       " | cutoff |      precision      |         recall        |\n",
       " +--------+---------------------+-----------------------+\n",
       " |   1    |  0.1081081081081081 | 0.0023649688978978505 |\n",
       " |   2    | 0.10360360360360354 |  0.005659827258681903 |\n",
       " |   3    | 0.10443777110443771 |  0.009543169542703343 |\n",
       " |   4    | 0.10435435435435435 |  0.01436162189744292  |\n",
       " |   5    | 0.10450450450450462 |  0.018888683650579066 |\n",
       " |   6    |  0.109275942609276  |  0.023959281802789067 |\n",
       " |   7    | 0.11297011297011307 |  0.02968188737851963  |\n",
       " |   8    | 0.11774274274274277 |  0.03586178940005088  |\n",
       " |   9    | 0.11911911911911927 |  0.04163323765320735  |\n",
       " |   10   | 0.12042042042042032 |  0.04712799440584596  |\n",
       " +--------+---------------------+-----------------------+\n",
       " [18 rows x 3 columns]\n",
       " Note: Only the head of the SFrame is printed.\n",
       " You can use print_rows(num_rows=m, num_columns=n) to print more rows and columns.}"
      ]
     },
     "execution_count": 8,
     "metadata": {},
     "output_type": "execute_result"
    }
   ],
   "source": [
    "# evaluate the model\n",
    "model.evaluate(validation_data)\n"
   ]
  },
  {
   "cell_type": "code",
   "execution_count": 9,
   "metadata": {},
   "outputs": [
    {
     "name": "stdout",
     "output_type": "stream",
     "text": [
      "This model is exported as a custom Core ML model. In order to use it in your\n",
      "application, you must also include \"libRecommender.dylib\". For additional\n",
      "details see:\n",
      "https://apple.github.io/turicreate/docs/userguide/recommender/coreml-deployment.html\n"
     ]
    }
   ],
   "source": [
    "# export to coreml\n",
    "coreml_model_name = \"recommender.mlmodel\"\n",
    "res = model.export_coreml(coreml_model_name)\n",
    "\n",
    "# compress the model\n",
    "compressed_model_name, compressed_model = sm.compress_model(coreml_model_name)"
   ]
  },
  {
   "cell_type": "code",
   "execution_count": null,
   "metadata": {},
   "outputs": [],
   "source": [
    "# save to Skafos\n",
    "sm.skafos_save_model(skafos = ska, model_name = compressed_model_name,\n",
    "                     compressed_model = compressed_model,\n",
    "                     permissions = 'public')"
   ]
  },
  {
   "cell_type": "code",
   "execution_count": null,
   "metadata": {},
   "outputs": [],
   "source": []
  }
 ],
 "metadata": {
  "kernelspec": {
   "display_name": "Python 3",
   "language": "python",
   "name": "python3"
  },
  "language_info": {
   "codemirror_mode": {
    "name": "ipython",
    "version": 3
   },
   "file_extension": ".py",
   "mimetype": "text/x-python",
   "name": "python",
   "nbconvert_exporter": "python",
   "pygments_lexer": "ipython3",
   "version": "3.6.6"
  }
 },
 "nbformat": 4,
 "nbformat_minor": 2
}
