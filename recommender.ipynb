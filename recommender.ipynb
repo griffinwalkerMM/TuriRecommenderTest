{
 "cells": [
  {
   "cell_type": "code",
   "execution_count": 1,
   "metadata": {},
   "outputs": [],
   "source": [
    "import turicreate as tc\n",
    "import time\n",
    "\n",
    "#from skafos import *\n",
    "\n",
    "#ska = Skafos() #initialize Skafos"
   ]
  },
  {
   "cell_type": "code",
   "execution_count": 2,
   "metadata": {},
   "outputs": [
    {
     "data": {
      "text/html": [
       "<pre>Downloading https://s3.amazonaws.com/skafos.example.data/MovieLensDataset/ml-20m/ratings.csv to /var/tmp/turicreate-griffin/12478/dd88334b-b944-4b42-a91d-c4f59b34cf1b.csv</pre>"
      ],
      "text/plain": [
       "Downloading https://s3.amazonaws.com/skafos.example.data/MovieLensDataset/ml-20m/ratings.csv to /var/tmp/turicreate-griffin/12478/dd88334b-b944-4b42-a91d-c4f59b34cf1b.csv"
      ]
     },
     "metadata": {},
     "output_type": "display_data"
    },
    {
     "data": {
      "text/html": [
       "<pre>Finished parsing file https://s3.amazonaws.com/skafos.example.data/MovieLensDataset/ml-20m/ratings.csv</pre>"
      ],
      "text/plain": [
       "Finished parsing file https://s3.amazonaws.com/skafos.example.data/MovieLensDataset/ml-20m/ratings.csv"
      ]
     },
     "metadata": {},
     "output_type": "display_data"
    },
    {
     "data": {
      "text/html": [
       "<pre>Parsing completed. Parsed 100 lines in 0.358418 secs.</pre>"
      ],
      "text/plain": [
       "Parsing completed. Parsed 100 lines in 0.358418 secs."
      ]
     },
     "metadata": {},
     "output_type": "display_data"
    },
    {
     "name": "stdout",
     "output_type": "stream",
     "text": [
      "------------------------------------------------------\n",
      "Inferred types from first 100 line(s) of file as \n",
      "column_type_hints=[int,int,float,int]\n",
      "If parsing fails due to incorrect types, you can correct\n",
      "the inferred type list above and pass it to read_csv in\n",
      "the column_type_hints argument\n",
      "------------------------------------------------------\n"
     ]
    },
    {
     "data": {
      "text/html": [
       "<pre>Read 2042753 lines. Lines per second: 3.14302e+06</pre>"
      ],
      "text/plain": [
       "Read 2042753 lines. Lines per second: 3.14302e+06"
      ]
     },
     "metadata": {},
     "output_type": "display_data"
    },
    {
     "data": {
      "text/html": [
       "<pre>Finished parsing file https://s3.amazonaws.com/skafos.example.data/MovieLensDataset/ml-20m/ratings.csv</pre>"
      ],
      "text/plain": [
       "Finished parsing file https://s3.amazonaws.com/skafos.example.data/MovieLensDataset/ml-20m/ratings.csv"
      ]
     },
     "metadata": {},
     "output_type": "display_data"
    },
    {
     "data": {
      "text/html": [
       "<pre>Parsing completed. Parsed 20000263 lines in 3.19467 secs.</pre>"
      ],
      "text/plain": [
       "Parsing completed. Parsed 20000263 lines in 3.19467 secs."
      ]
     },
     "metadata": {},
     "output_type": "display_data"
    },
    {
     "data": {
      "text/html": [
       "<pre>Downloading https://s3.amazonaws.com/skafos.example.data/MovieLensDataset/ml-20m/movies.csv to /var/tmp/turicreate-griffin/12478/cba5b6bb-0e79-4f7f-ad1e-ef7de5ed28de.csv</pre>"
      ],
      "text/plain": [
       "Downloading https://s3.amazonaws.com/skafos.example.data/MovieLensDataset/ml-20m/movies.csv to /var/tmp/turicreate-griffin/12478/cba5b6bb-0e79-4f7f-ad1e-ef7de5ed28de.csv"
      ]
     },
     "metadata": {},
     "output_type": "display_data"
    },
    {
     "data": {
      "text/html": [
       "<pre>Finished parsing file https://s3.amazonaws.com/skafos.example.data/MovieLensDataset/ml-20m/movies.csv</pre>"
      ],
      "text/plain": [
       "Finished parsing file https://s3.amazonaws.com/skafos.example.data/MovieLensDataset/ml-20m/movies.csv"
      ]
     },
     "metadata": {},
     "output_type": "display_data"
    },
    {
     "data": {
      "text/html": [
       "<pre>Parsing completed. Parsed 100 lines in 0.053059 secs.</pre>"
      ],
      "text/plain": [
       "Parsing completed. Parsed 100 lines in 0.053059 secs."
      ]
     },
     "metadata": {},
     "output_type": "display_data"
    },
    {
     "name": "stdout",
     "output_type": "stream",
     "text": [
      "------------------------------------------------------\n",
      "Inferred types from first 100 line(s) of file as \n",
      "column_type_hints=[int,str,str]\n",
      "If parsing fails due to incorrect types, you can correct\n",
      "the inferred type list above and pass it to read_csv in\n",
      "the column_type_hints argument\n",
      "------------------------------------------------------\n"
     ]
    },
    {
     "data": {
      "text/html": [
       "<pre>Finished parsing file https://s3.amazonaws.com/skafos.example.data/MovieLensDataset/ml-20m/movies.csv</pre>"
      ],
      "text/plain": [
       "Finished parsing file https://s3.amazonaws.com/skafos.example.data/MovieLensDataset/ml-20m/movies.csv"
      ]
     },
     "metadata": {},
     "output_type": "display_data"
    },
    {
     "data": {
      "text/html": [
       "<pre>Parsing completed. Parsed 27278 lines in 0.02766 secs.</pre>"
      ],
      "text/plain": [
       "Parsing completed. Parsed 27278 lines in 0.02766 secs."
      ]
     },
     "metadata": {},
     "output_type": "display_data"
    }
   ],
   "source": [
    "# read in the actions and items \n",
    "actions = tc.SFrame.read_csv('https://s3.amazonaws.com/skafos.example.data/MovieLensDataset/ml-20m/ratings.csv')\n",
    "items = tc.SFrame.read_csv('https://s3.amazonaws.com/skafos.example.data/MovieLensDataset/ml-20m/movies.csv')"
   ]
  },
  {
   "cell_type": "code",
   "execution_count": 3,
   "metadata": {},
   "outputs": [],
   "source": [
    "# split the training and validation sets up\n",
    "training_data, validation_data = tc.recommender.util.random_split_by_user(actions, 'userId', 'movieId')"
   ]
  },
  {
   "cell_type": "code",
   "execution_count": 4,
   "metadata": {},
   "outputs": [
    {
     "data": {
      "text/html": [
       "<pre>Recsys training: model = item_similarity</pre>"
      ],
      "text/plain": [
       "Recsys training: model = item_similarity"
      ]
     },
     "metadata": {},
     "output_type": "display_data"
    },
    {
     "data": {
      "text/html": [
       "<pre>Warning: Ignoring columns rating, timestamp;</pre>"
      ],
      "text/plain": [
       "Warning: Ignoring columns rating, timestamp;"
      ]
     },
     "metadata": {},
     "output_type": "display_data"
    },
    {
     "data": {
      "text/html": [
       "<pre>    To use one of these as a target column, set target = <column_name></pre>"
      ],
      "text/plain": [
       "    To use one of these as a target column, set target = <column_name>"
      ]
     },
     "metadata": {},
     "output_type": "display_data"
    },
    {
     "data": {
      "text/html": [
       "<pre>    and use a method that allows the use of a target.</pre>"
      ],
      "text/plain": [
       "    and use a method that allows the use of a target."
      ]
     },
     "metadata": {},
     "output_type": "display_data"
    },
    {
     "data": {
      "text/html": [
       "<pre>Preparing data set.</pre>"
      ],
      "text/plain": [
       "Preparing data set."
      ]
     },
     "metadata": {},
     "output_type": "display_data"
    },
    {
     "data": {
      "text/html": [
       "<pre>    Data has 19970212 observations with 138493 users and 26657 items.</pre>"
      ],
      "text/plain": [
       "    Data has 19970212 observations with 138493 users and 26657 items."
      ]
     },
     "metadata": {},
     "output_type": "display_data"
    },
    {
     "data": {
      "text/html": [
       "<pre>    Data prepared in: 4.37943s</pre>"
      ],
      "text/plain": [
       "    Data prepared in: 4.37943s"
      ]
     },
     "metadata": {},
     "output_type": "display_data"
    },
    {
     "data": {
      "text/html": [
       "<pre>Training model from provided data.</pre>"
      ],
      "text/plain": [
       "Training model from provided data."
      ]
     },
     "metadata": {},
     "output_type": "display_data"
    },
    {
     "data": {
      "text/html": [
       "<pre>Gathering per-item and per-user statistics.</pre>"
      ],
      "text/plain": [
       "Gathering per-item and per-user statistics."
      ]
     },
     "metadata": {},
     "output_type": "display_data"
    },
    {
     "data": {
      "text/html": [
       "<pre>+--------------------------------+------------+</pre>"
      ],
      "text/plain": [
       "+--------------------------------+------------+"
      ]
     },
     "metadata": {},
     "output_type": "display_data"
    },
    {
     "data": {
      "text/html": [
       "<pre>| Elapsed Time (Item Statistics) | % Complete |</pre>"
      ],
      "text/plain": [
       "| Elapsed Time (Item Statistics) | % Complete |"
      ]
     },
     "metadata": {},
     "output_type": "display_data"
    },
    {
     "data": {
      "text/html": [
       "<pre>+--------------------------------+------------+</pre>"
      ],
      "text/plain": [
       "+--------------------------------+------------+"
      ]
     },
     "metadata": {},
     "output_type": "display_data"
    },
    {
     "data": {
      "text/html": [
       "<pre>| 4.677ms                        | 0.5        |</pre>"
      ],
      "text/plain": [
       "| 4.677ms                        | 0.5        |"
      ]
     },
     "metadata": {},
     "output_type": "display_data"
    },
    {
     "data": {
      "text/html": [
       "<pre>| 138.304ms                      | 100        |</pre>"
      ],
      "text/plain": [
       "| 138.304ms                      | 100        |"
      ]
     },
     "metadata": {},
     "output_type": "display_data"
    },
    {
     "data": {
      "text/html": [
       "<pre>+--------------------------------+------------+</pre>"
      ],
      "text/plain": [
       "+--------------------------------+------------+"
      ]
     },
     "metadata": {},
     "output_type": "display_data"
    },
    {
     "data": {
      "text/html": [
       "<pre>Setting up lookup tables.</pre>"
      ],
      "text/plain": [
       "Setting up lookup tables."
      ]
     },
     "metadata": {},
     "output_type": "display_data"
    },
    {
     "data": {
      "text/html": [
       "<pre>Processing data in one pass using dense lookup tables.</pre>"
      ],
      "text/plain": [
       "Processing data in one pass using dense lookup tables."
      ]
     },
     "metadata": {},
     "output_type": "display_data"
    },
    {
     "data": {
      "text/html": [
       "<pre>+-------------------------------------+------------------+-----------------+</pre>"
      ],
      "text/plain": [
       "+-------------------------------------+------------------+-----------------+"
      ]
     },
     "metadata": {},
     "output_type": "display_data"
    },
    {
     "data": {
      "text/html": [
       "<pre>| Elapsed Time (Constructing Lookups) | Total % Complete | Items Processed |</pre>"
      ],
      "text/plain": [
       "| Elapsed Time (Constructing Lookups) | Total % Complete | Items Processed |"
      ]
     },
     "metadata": {},
     "output_type": "display_data"
    },
    {
     "data": {
      "text/html": [
       "<pre>+-------------------------------------+------------------+-----------------+</pre>"
      ],
      "text/plain": [
       "+-------------------------------------+------------------+-----------------+"
      ]
     },
     "metadata": {},
     "output_type": "display_data"
    },
    {
     "data": {
      "text/html": [
       "<pre>| 873.576ms                           | 0                | 0               |</pre>"
      ],
      "text/plain": [
       "| 873.576ms                           | 0                | 0               |"
      ]
     },
     "metadata": {},
     "output_type": "display_data"
    },
    {
     "data": {
      "text/html": [
       "<pre>| 3.87s                               | 12               | 3243            |</pre>"
      ],
      "text/plain": [
       "| 3.87s                               | 12               | 3243            |"
      ]
     },
     "metadata": {},
     "output_type": "display_data"
    },
    {
     "data": {
      "text/html": [
       "<pre>| 6.87s                               | 23.25            | 6214            |</pre>"
      ],
      "text/plain": [
       "| 6.87s                               | 23.25            | 6214            |"
      ]
     },
     "metadata": {},
     "output_type": "display_data"
    },
    {
     "data": {
      "text/html": [
       "<pre>| 9.87s                               | 35               | 9379            |</pre>"
      ],
      "text/plain": [
       "| 9.87s                               | 35               | 9379            |"
      ]
     },
     "metadata": {},
     "output_type": "display_data"
    },
    {
     "data": {
      "text/html": [
       "<pre>| 12.87s                              | 47               | 12549           |</pre>"
      ],
      "text/plain": [
       "| 12.87s                              | 47               | 12549           |"
      ]
     },
     "metadata": {},
     "output_type": "display_data"
    },
    {
     "data": {
      "text/html": [
       "<pre>| 15.87s                              | 59.25            | 15812           |</pre>"
      ],
      "text/plain": [
       "| 15.87s                              | 59.25            | 15812           |"
      ]
     },
     "metadata": {},
     "output_type": "display_data"
    },
    {
     "data": {
      "text/html": [
       "<pre>| 18.87s                              | 71.5             | 19060           |</pre>"
      ],
      "text/plain": [
       "| 18.87s                              | 71.5             | 19060           |"
      ]
     },
     "metadata": {},
     "output_type": "display_data"
    },
    {
     "data": {
      "text/html": [
       "<pre>| 21.87s                              | 83.75            | 22344           |</pre>"
      ],
      "text/plain": [
       "| 21.87s                              | 83.75            | 22344           |"
      ]
     },
     "metadata": {},
     "output_type": "display_data"
    },
    {
     "data": {
      "text/html": [
       "<pre>| 24.87s                              | 94.5             | 25247           |</pre>"
      ],
      "text/plain": [
       "| 24.87s                              | 94.5             | 25247           |"
      ]
     },
     "metadata": {},
     "output_type": "display_data"
    },
    {
     "data": {
      "text/html": [
       "<pre>| 28.74s                              | 100              | 26657           |</pre>"
      ],
      "text/plain": [
       "| 28.74s                              | 100              | 26657           |"
      ]
     },
     "metadata": {},
     "output_type": "display_data"
    },
    {
     "data": {
      "text/html": [
       "<pre>+-------------------------------------+------------------+-----------------+</pre>"
      ],
      "text/plain": [
       "+-------------------------------------+------------------+-----------------+"
      ]
     },
     "metadata": {},
     "output_type": "display_data"
    },
    {
     "data": {
      "text/html": [
       "<pre>Finalizing lookup tables.</pre>"
      ],
      "text/plain": [
       "Finalizing lookup tables."
      ]
     },
     "metadata": {},
     "output_type": "display_data"
    },
    {
     "data": {
      "text/html": [
       "<pre>Generating candidate set for working with new users.</pre>"
      ],
      "text/plain": [
       "Generating candidate set for working with new users."
      ]
     },
     "metadata": {},
     "output_type": "display_data"
    },
    {
     "data": {
      "text/html": [
       "<pre>Finished training in 30.0811s</pre>"
      ],
      "text/plain": [
       "Finished training in 30.0811s"
      ]
     },
     "metadata": {},
     "output_type": "display_data"
    }
   ],
   "source": [
    "# build the recommender\n",
    "model = tc.recommender.create(training_data, 'userId', 'movieId')"
   ]
  },
  {
   "cell_type": "code",
   "execution_count": 8,
   "metadata": {},
   "outputs": [
    {
     "data": {
      "text/html": [
       "<pre>recommendations finished on 1000/138493 queries. users per second: 9197.69</pre>"
      ],
      "text/plain": [
       "recommendations finished on 1000/138493 queries. users per second: 9197.69"
      ]
     },
     "metadata": {},
     "output_type": "display_data"
    },
    {
     "data": {
      "text/html": [
       "<pre>recommendations finished on 2000/138493 queries. users per second: 9950.55</pre>"
      ],
      "text/plain": [
       "recommendations finished on 2000/138493 queries. users per second: 9950.55"
      ]
     },
     "metadata": {},
     "output_type": "display_data"
    },
    {
     "data": {
      "text/html": [
       "<pre>recommendations finished on 3000/138493 queries. users per second: 10349.8</pre>"
      ],
      "text/plain": [
       "recommendations finished on 3000/138493 queries. users per second: 10349.8"
      ]
     },
     "metadata": {},
     "output_type": "display_data"
    },
    {
     "data": {
      "text/html": [
       "<pre>recommendations finished on 4000/138493 queries. users per second: 10501.2</pre>"
      ],
      "text/plain": [
       "recommendations finished on 4000/138493 queries. users per second: 10501.2"
      ]
     },
     "metadata": {},
     "output_type": "display_data"
    },
    {
     "data": {
      "text/html": [
       "<pre>recommendations finished on 5000/138493 queries. users per second: 10495.2</pre>"
      ],
      "text/plain": [
       "recommendations finished on 5000/138493 queries. users per second: 10495.2"
      ]
     },
     "metadata": {},
     "output_type": "display_data"
    },
    {
     "data": {
      "text/html": [
       "<pre>recommendations finished on 6000/138493 queries. users per second: 10602.7</pre>"
      ],
      "text/plain": [
       "recommendations finished on 6000/138493 queries. users per second: 10602.7"
      ]
     },
     "metadata": {},
     "output_type": "display_data"
    },
    {
     "data": {
      "text/html": [
       "<pre>recommendations finished on 7000/138493 queries. users per second: 10679.1</pre>"
      ],
      "text/plain": [
       "recommendations finished on 7000/138493 queries. users per second: 10679.1"
      ]
     },
     "metadata": {},
     "output_type": "display_data"
    },
    {
     "data": {
      "text/html": [
       "<pre>recommendations finished on 8000/138493 queries. users per second: 10670.3</pre>"
      ],
      "text/plain": [
       "recommendations finished on 8000/138493 queries. users per second: 10670.3"
      ]
     },
     "metadata": {},
     "output_type": "display_data"
    },
    {
     "data": {
      "text/html": [
       "<pre>recommendations finished on 9000/138493 queries. users per second: 10703.2</pre>"
      ],
      "text/plain": [
       "recommendations finished on 9000/138493 queries. users per second: 10703.2"
      ]
     },
     "metadata": {},
     "output_type": "display_data"
    },
    {
     "data": {
      "text/html": [
       "<pre>recommendations finished on 10000/138493 queries. users per second: 10744.9</pre>"
      ],
      "text/plain": [
       "recommendations finished on 10000/138493 queries. users per second: 10744.9"
      ]
     },
     "metadata": {},
     "output_type": "display_data"
    },
    {
     "data": {
      "text/html": [
       "<pre>recommendations finished on 11000/138493 queries. users per second: 10785.4</pre>"
      ],
      "text/plain": [
       "recommendations finished on 11000/138493 queries. users per second: 10785.4"
      ]
     },
     "metadata": {},
     "output_type": "display_data"
    },
    {
     "data": {
      "text/html": [
       "<pre>recommendations finished on 12000/138493 queries. users per second: 10822.2</pre>"
      ],
      "text/plain": [
       "recommendations finished on 12000/138493 queries. users per second: 10822.2"
      ]
     },
     "metadata": {},
     "output_type": "display_data"
    },
    {
     "data": {
      "text/html": [
       "<pre>recommendations finished on 13000/138493 queries. users per second: 10844.8</pre>"
      ],
      "text/plain": [
       "recommendations finished on 13000/138493 queries. users per second: 10844.8"
      ]
     },
     "metadata": {},
     "output_type": "display_data"
    },
    {
     "data": {
      "text/html": [
       "<pre>recommendations finished on 14000/138493 queries. users per second: 10863.4</pre>"
      ],
      "text/plain": [
       "recommendations finished on 14000/138493 queries. users per second: 10863.4"
      ]
     },
     "metadata": {},
     "output_type": "display_data"
    },
    {
     "data": {
      "text/html": [
       "<pre>recommendations finished on 15000/138493 queries. users per second: 10881</pre>"
      ],
      "text/plain": [
       "recommendations finished on 15000/138493 queries. users per second: 10881"
      ]
     },
     "metadata": {},
     "output_type": "display_data"
    },
    {
     "data": {
      "text/html": [
       "<pre>recommendations finished on 16000/138493 queries. users per second: 10904.3</pre>"
      ],
      "text/plain": [
       "recommendations finished on 16000/138493 queries. users per second: 10904.3"
      ]
     },
     "metadata": {},
     "output_type": "display_data"
    },
    {
     "data": {
      "text/html": [
       "<pre>recommendations finished on 17000/138493 queries. users per second: 10922.6</pre>"
      ],
      "text/plain": [
       "recommendations finished on 17000/138493 queries. users per second: 10922.6"
      ]
     },
     "metadata": {},
     "output_type": "display_data"
    },
    {
     "data": {
      "text/html": [
       "<pre>recommendations finished on 18000/138493 queries. users per second: 10937.5</pre>"
      ],
      "text/plain": [
       "recommendations finished on 18000/138493 queries. users per second: 10937.5"
      ]
     },
     "metadata": {},
     "output_type": "display_data"
    },
    {
     "data": {
      "text/html": [
       "<pre>recommendations finished on 19000/138493 queries. users per second: 10939.9</pre>"
      ],
      "text/plain": [
       "recommendations finished on 19000/138493 queries. users per second: 10939.9"
      ]
     },
     "metadata": {},
     "output_type": "display_data"
    },
    {
     "data": {
      "text/html": [
       "<pre>recommendations finished on 20000/138493 queries. users per second: 10936.1</pre>"
      ],
      "text/plain": [
       "recommendations finished on 20000/138493 queries. users per second: 10936.1"
      ]
     },
     "metadata": {},
     "output_type": "display_data"
    },
    {
     "data": {
      "text/html": [
       "<pre>recommendations finished on 21000/138493 queries. users per second: 10945.6</pre>"
      ],
      "text/plain": [
       "recommendations finished on 21000/138493 queries. users per second: 10945.6"
      ]
     },
     "metadata": {},
     "output_type": "display_data"
    },
    {
     "data": {
      "text/html": [
       "<pre>recommendations finished on 22000/138493 queries. users per second: 10957.1</pre>"
      ],
      "text/plain": [
       "recommendations finished on 22000/138493 queries. users per second: 10957.1"
      ]
     },
     "metadata": {},
     "output_type": "display_data"
    },
    {
     "data": {
      "text/html": [
       "<pre>recommendations finished on 23000/138493 queries. users per second: 10963.9</pre>"
      ],
      "text/plain": [
       "recommendations finished on 23000/138493 queries. users per second: 10963.9"
      ]
     },
     "metadata": {},
     "output_type": "display_data"
    },
    {
     "data": {
      "text/html": [
       "<pre>recommendations finished on 24000/138493 queries. users per second: 10966</pre>"
      ],
      "text/plain": [
       "recommendations finished on 24000/138493 queries. users per second: 10966"
      ]
     },
     "metadata": {},
     "output_type": "display_data"
    },
    {
     "data": {
      "text/html": [
       "<pre>recommendations finished on 25000/138493 queries. users per second: 10971.6</pre>"
      ],
      "text/plain": [
       "recommendations finished on 25000/138493 queries. users per second: 10971.6"
      ]
     },
     "metadata": {},
     "output_type": "display_data"
    },
    {
     "data": {
      "text/html": [
       "<pre>recommendations finished on 26000/138493 queries. users per second: 10977.5</pre>"
      ],
      "text/plain": [
       "recommendations finished on 26000/138493 queries. users per second: 10977.5"
      ]
     },
     "metadata": {},
     "output_type": "display_data"
    },
    {
     "data": {
      "text/html": [
       "<pre>recommendations finished on 27000/138493 queries. users per second: 10978.7</pre>"
      ],
      "text/plain": [
       "recommendations finished on 27000/138493 queries. users per second: 10978.7"
      ]
     },
     "metadata": {},
     "output_type": "display_data"
    },
    {
     "data": {
      "text/html": [
       "<pre>recommendations finished on 28000/138493 queries. users per second: 10988.9</pre>"
      ],
      "text/plain": [
       "recommendations finished on 28000/138493 queries. users per second: 10988.9"
      ]
     },
     "metadata": {},
     "output_type": "display_data"
    },
    {
     "data": {
      "text/html": [
       "<pre>recommendations finished on 29000/138493 queries. users per second: 10994.6</pre>"
      ],
      "text/plain": [
       "recommendations finished on 29000/138493 queries. users per second: 10994.6"
      ]
     },
     "metadata": {},
     "output_type": "display_data"
    },
    {
     "data": {
      "text/html": [
       "<pre>recommendations finished on 30000/138493 queries. users per second: 10995.8</pre>"
      ],
      "text/plain": [
       "recommendations finished on 30000/138493 queries. users per second: 10995.8"
      ]
     },
     "metadata": {},
     "output_type": "display_data"
    },
    {
     "data": {
      "text/html": [
       "<pre>recommendations finished on 31000/138493 queries. users per second: 11001.5</pre>"
      ],
      "text/plain": [
       "recommendations finished on 31000/138493 queries. users per second: 11001.5"
      ]
     },
     "metadata": {},
     "output_type": "display_data"
    },
    {
     "data": {
      "text/html": [
       "<pre>recommendations finished on 32000/138493 queries. users per second: 11008</pre>"
      ],
      "text/plain": [
       "recommendations finished on 32000/138493 queries. users per second: 11008"
      ]
     },
     "metadata": {},
     "output_type": "display_data"
    },
    {
     "data": {
      "text/html": [
       "<pre>recommendations finished on 33000/138493 queries. users per second: 11011.6</pre>"
      ],
      "text/plain": [
       "recommendations finished on 33000/138493 queries. users per second: 11011.6"
      ]
     },
     "metadata": {},
     "output_type": "display_data"
    },
    {
     "data": {
      "text/html": [
       "<pre>recommendations finished on 34000/138493 queries. users per second: 11019.3</pre>"
      ],
      "text/plain": [
       "recommendations finished on 34000/138493 queries. users per second: 11019.3"
      ]
     },
     "metadata": {},
     "output_type": "display_data"
    },
    {
     "data": {
      "text/html": [
       "<pre>recommendations finished on 35000/138493 queries. users per second: 11027.8</pre>"
      ],
      "text/plain": [
       "recommendations finished on 35000/138493 queries. users per second: 11027.8"
      ]
     },
     "metadata": {},
     "output_type": "display_data"
    },
    {
     "data": {
      "text/html": [
       "<pre>recommendations finished on 36000/138493 queries. users per second: 11030</pre>"
      ],
      "text/plain": [
       "recommendations finished on 36000/138493 queries. users per second: 11030"
      ]
     },
     "metadata": {},
     "output_type": "display_data"
    },
    {
     "data": {
      "text/html": [
       "<pre>recommendations finished on 37000/138493 queries. users per second: 11030.8</pre>"
      ],
      "text/plain": [
       "recommendations finished on 37000/138493 queries. users per second: 11030.8"
      ]
     },
     "metadata": {},
     "output_type": "display_data"
    },
    {
     "data": {
      "text/html": [
       "<pre>recommendations finished on 38000/138493 queries. users per second: 11032.7</pre>"
      ],
      "text/plain": [
       "recommendations finished on 38000/138493 queries. users per second: 11032.7"
      ]
     },
     "metadata": {},
     "output_type": "display_data"
    },
    {
     "data": {
      "text/html": [
       "<pre>recommendations finished on 39000/138493 queries. users per second: 11036.6</pre>"
      ],
      "text/plain": [
       "recommendations finished on 39000/138493 queries. users per second: 11036.6"
      ]
     },
     "metadata": {},
     "output_type": "display_data"
    },
    {
     "data": {
      "text/html": [
       "<pre>recommendations finished on 40000/138493 queries. users per second: 11041.8</pre>"
      ],
      "text/plain": [
       "recommendations finished on 40000/138493 queries. users per second: 11041.8"
      ]
     },
     "metadata": {},
     "output_type": "display_data"
    },
    {
     "data": {
      "text/html": [
       "<pre>recommendations finished on 41000/138493 queries. users per second: 11040.9</pre>"
      ],
      "text/plain": [
       "recommendations finished on 41000/138493 queries. users per second: 11040.9"
      ]
     },
     "metadata": {},
     "output_type": "display_data"
    },
    {
     "data": {
      "text/html": [
       "<pre>recommendations finished on 42000/138493 queries. users per second: 11032.5</pre>"
      ],
      "text/plain": [
       "recommendations finished on 42000/138493 queries. users per second: 11032.5"
      ]
     },
     "metadata": {},
     "output_type": "display_data"
    },
    {
     "data": {
      "text/html": [
       "<pre>recommendations finished on 43000/138493 queries. users per second: 11035.1</pre>"
      ],
      "text/plain": [
       "recommendations finished on 43000/138493 queries. users per second: 11035.1"
      ]
     },
     "metadata": {},
     "output_type": "display_data"
    },
    {
     "data": {
      "text/html": [
       "<pre>recommendations finished on 44000/138493 queries. users per second: 11034.5</pre>"
      ],
      "text/plain": [
       "recommendations finished on 44000/138493 queries. users per second: 11034.5"
      ]
     },
     "metadata": {},
     "output_type": "display_data"
    },
    {
     "data": {
      "text/html": [
       "<pre>recommendations finished on 45000/138493 queries. users per second: 11039.1</pre>"
      ],
      "text/plain": [
       "recommendations finished on 45000/138493 queries. users per second: 11039.1"
      ]
     },
     "metadata": {},
     "output_type": "display_data"
    },
    {
     "data": {
      "text/html": [
       "<pre>recommendations finished on 46000/138493 queries. users per second: 11043.6</pre>"
      ],
      "text/plain": [
       "recommendations finished on 46000/138493 queries. users per second: 11043.6"
      ]
     },
     "metadata": {},
     "output_type": "display_data"
    },
    {
     "data": {
      "text/html": [
       "<pre>recommendations finished on 47000/138493 queries. users per second: 11046.4</pre>"
      ],
      "text/plain": [
       "recommendations finished on 47000/138493 queries. users per second: 11046.4"
      ]
     },
     "metadata": {},
     "output_type": "display_data"
    },
    {
     "data": {
      "text/html": [
       "<pre>recommendations finished on 48000/138493 queries. users per second: 11052.9</pre>"
      ],
      "text/plain": [
       "recommendations finished on 48000/138493 queries. users per second: 11052.9"
      ]
     },
     "metadata": {},
     "output_type": "display_data"
    },
    {
     "data": {
      "text/html": [
       "<pre>recommendations finished on 49000/138493 queries. users per second: 11056.7</pre>"
      ],
      "text/plain": [
       "recommendations finished on 49000/138493 queries. users per second: 11056.7"
      ]
     },
     "metadata": {},
     "output_type": "display_data"
    },
    {
     "data": {
      "text/html": [
       "<pre>recommendations finished on 50000/138493 queries. users per second: 11060.2</pre>"
      ],
      "text/plain": [
       "recommendations finished on 50000/138493 queries. users per second: 11060.2"
      ]
     },
     "metadata": {},
     "output_type": "display_data"
    },
    {
     "data": {
      "text/html": [
       "<pre>recommendations finished on 51000/138493 queries. users per second: 11060.4</pre>"
      ],
      "text/plain": [
       "recommendations finished on 51000/138493 queries. users per second: 11060.4"
      ]
     },
     "metadata": {},
     "output_type": "display_data"
    },
    {
     "data": {
      "text/html": [
       "<pre>recommendations finished on 52000/138493 queries. users per second: 11064</pre>"
      ],
      "text/plain": [
       "recommendations finished on 52000/138493 queries. users per second: 11064"
      ]
     },
     "metadata": {},
     "output_type": "display_data"
    },
    {
     "data": {
      "text/html": [
       "<pre>recommendations finished on 53000/138493 queries. users per second: 11064.3</pre>"
      ],
      "text/plain": [
       "recommendations finished on 53000/138493 queries. users per second: 11064.3"
      ]
     },
     "metadata": {},
     "output_type": "display_data"
    },
    {
     "data": {
      "text/html": [
       "<pre>recommendations finished on 54000/138493 queries. users per second: 11063.7</pre>"
      ],
      "text/plain": [
       "recommendations finished on 54000/138493 queries. users per second: 11063.7"
      ]
     },
     "metadata": {},
     "output_type": "display_data"
    },
    {
     "data": {
      "text/html": [
       "<pre>recommendations finished on 55000/138493 queries. users per second: 11063.2</pre>"
      ],
      "text/plain": [
       "recommendations finished on 55000/138493 queries. users per second: 11063.2"
      ]
     },
     "metadata": {},
     "output_type": "display_data"
    },
    {
     "data": {
      "text/html": [
       "<pre>recommendations finished on 56000/138493 queries. users per second: 11066.9</pre>"
      ],
      "text/plain": [
       "recommendations finished on 56000/138493 queries. users per second: 11066.9"
      ]
     },
     "metadata": {},
     "output_type": "display_data"
    },
    {
     "data": {
      "text/html": [
       "<pre>recommendations finished on 57000/138493 queries. users per second: 11067.1</pre>"
      ],
      "text/plain": [
       "recommendations finished on 57000/138493 queries. users per second: 11067.1"
      ]
     },
     "metadata": {},
     "output_type": "display_data"
    },
    {
     "data": {
      "text/html": [
       "<pre>recommendations finished on 58000/138493 queries. users per second: 11067.2</pre>"
      ],
      "text/plain": [
       "recommendations finished on 58000/138493 queries. users per second: 11067.2"
      ]
     },
     "metadata": {},
     "output_type": "display_data"
    },
    {
     "data": {
      "text/html": [
       "<pre>recommendations finished on 59000/138493 queries. users per second: 11069.6</pre>"
      ],
      "text/plain": [
       "recommendations finished on 59000/138493 queries. users per second: 11069.6"
      ]
     },
     "metadata": {},
     "output_type": "display_data"
    },
    {
     "data": {
      "text/html": [
       "<pre>recommendations finished on 60000/138493 queries. users per second: 11071.1</pre>"
      ],
      "text/plain": [
       "recommendations finished on 60000/138493 queries. users per second: 11071.1"
      ]
     },
     "metadata": {},
     "output_type": "display_data"
    },
    {
     "data": {
      "text/html": [
       "<pre>recommendations finished on 61000/138493 queries. users per second: 11072.3</pre>"
      ],
      "text/plain": [
       "recommendations finished on 61000/138493 queries. users per second: 11072.3"
      ]
     },
     "metadata": {},
     "output_type": "display_data"
    },
    {
     "data": {
      "text/html": [
       "<pre>recommendations finished on 62000/138493 queries. users per second: 11073.2</pre>"
      ],
      "text/plain": [
       "recommendations finished on 62000/138493 queries. users per second: 11073.2"
      ]
     },
     "metadata": {},
     "output_type": "display_data"
    },
    {
     "data": {
      "text/html": [
       "<pre>recommendations finished on 63000/138493 queries. users per second: 11071.2</pre>"
      ],
      "text/plain": [
       "recommendations finished on 63000/138493 queries. users per second: 11071.2"
      ]
     },
     "metadata": {},
     "output_type": "display_data"
    },
    {
     "data": {
      "text/html": [
       "<pre>recommendations finished on 64000/138493 queries. users per second: 11071</pre>"
      ],
      "text/plain": [
       "recommendations finished on 64000/138493 queries. users per second: 11071"
      ]
     },
     "metadata": {},
     "output_type": "display_data"
    },
    {
     "data": {
      "text/html": [
       "<pre>recommendations finished on 65000/138493 queries. users per second: 11068.9</pre>"
      ],
      "text/plain": [
       "recommendations finished on 65000/138493 queries. users per second: 11068.9"
      ]
     },
     "metadata": {},
     "output_type": "display_data"
    },
    {
     "data": {
      "text/html": [
       "<pre>recommendations finished on 66000/138493 queries. users per second: 11067</pre>"
      ],
      "text/plain": [
       "recommendations finished on 66000/138493 queries. users per second: 11067"
      ]
     },
     "metadata": {},
     "output_type": "display_data"
    },
    {
     "data": {
      "text/html": [
       "<pre>recommendations finished on 67000/138493 queries. users per second: 11067.5</pre>"
      ],
      "text/plain": [
       "recommendations finished on 67000/138493 queries. users per second: 11067.5"
      ]
     },
     "metadata": {},
     "output_type": "display_data"
    },
    {
     "data": {
      "text/html": [
       "<pre>recommendations finished on 68000/138493 queries. users per second: 11067.5</pre>"
      ],
      "text/plain": [
       "recommendations finished on 68000/138493 queries. users per second: 11067.5"
      ]
     },
     "metadata": {},
     "output_type": "display_data"
    },
    {
     "data": {
      "text/html": [
       "<pre>recommendations finished on 69000/138493 queries. users per second: 11066.9</pre>"
      ],
      "text/plain": [
       "recommendations finished on 69000/138493 queries. users per second: 11066.9"
      ]
     },
     "metadata": {},
     "output_type": "display_data"
    },
    {
     "data": {
      "text/html": [
       "<pre>recommendations finished on 70000/138493 queries. users per second: 11066.1</pre>"
      ],
      "text/plain": [
       "recommendations finished on 70000/138493 queries. users per second: 11066.1"
      ]
     },
     "metadata": {},
     "output_type": "display_data"
    },
    {
     "data": {
      "text/html": [
       "<pre>recommendations finished on 71000/138493 queries. users per second: 11066.4</pre>"
      ],
      "text/plain": [
       "recommendations finished on 71000/138493 queries. users per second: 11066.4"
      ]
     },
     "metadata": {},
     "output_type": "display_data"
    },
    {
     "data": {
      "text/html": [
       "<pre>recommendations finished on 72000/138493 queries. users per second: 11065.9</pre>"
      ],
      "text/plain": [
       "recommendations finished on 72000/138493 queries. users per second: 11065.9"
      ]
     },
     "metadata": {},
     "output_type": "display_data"
    },
    {
     "data": {
      "text/html": [
       "<pre>recommendations finished on 73000/138493 queries. users per second: 11064.5</pre>"
      ],
      "text/plain": [
       "recommendations finished on 73000/138493 queries. users per second: 11064.5"
      ]
     },
     "metadata": {},
     "output_type": "display_data"
    },
    {
     "data": {
      "text/html": [
       "<pre>recommendations finished on 74000/138493 queries. users per second: 11062.9</pre>"
      ],
      "text/plain": [
       "recommendations finished on 74000/138493 queries. users per second: 11062.9"
      ]
     },
     "metadata": {},
     "output_type": "display_data"
    },
    {
     "data": {
      "text/html": [
       "<pre>recommendations finished on 75000/138493 queries. users per second: 11062.1</pre>"
      ],
      "text/plain": [
       "recommendations finished on 75000/138493 queries. users per second: 11062.1"
      ]
     },
     "metadata": {},
     "output_type": "display_data"
    },
    {
     "data": {
      "text/html": [
       "<pre>recommendations finished on 76000/138493 queries. users per second: 11060.7</pre>"
      ],
      "text/plain": [
       "recommendations finished on 76000/138493 queries. users per second: 11060.7"
      ]
     },
     "metadata": {},
     "output_type": "display_data"
    },
    {
     "data": {
      "text/html": [
       "<pre>recommendations finished on 77000/138493 queries. users per second: 11059.9</pre>"
      ],
      "text/plain": [
       "recommendations finished on 77000/138493 queries. users per second: 11059.9"
      ]
     },
     "metadata": {},
     "output_type": "display_data"
    },
    {
     "data": {
      "text/html": [
       "<pre>recommendations finished on 78000/138493 queries. users per second: 11059.4</pre>"
      ],
      "text/plain": [
       "recommendations finished on 78000/138493 queries. users per second: 11059.4"
      ]
     },
     "metadata": {},
     "output_type": "display_data"
    },
    {
     "data": {
      "text/html": [
       "<pre>recommendations finished on 79000/138493 queries. users per second: 11057.4</pre>"
      ],
      "text/plain": [
       "recommendations finished on 79000/138493 queries. users per second: 11057.4"
      ]
     },
     "metadata": {},
     "output_type": "display_data"
    },
    {
     "data": {
      "text/html": [
       "<pre>recommendations finished on 80000/138493 queries. users per second: 11058</pre>"
      ],
      "text/plain": [
       "recommendations finished on 80000/138493 queries. users per second: 11058"
      ]
     },
     "metadata": {},
     "output_type": "display_data"
    },
    {
     "data": {
      "text/html": [
       "<pre>recommendations finished on 81000/138493 queries. users per second: 11056</pre>"
      ],
      "text/plain": [
       "recommendations finished on 81000/138493 queries. users per second: 11056"
      ]
     },
     "metadata": {},
     "output_type": "display_data"
    },
    {
     "data": {
      "text/html": [
       "<pre>recommendations finished on 82000/138493 queries. users per second: 11050.9</pre>"
      ],
      "text/plain": [
       "recommendations finished on 82000/138493 queries. users per second: 11050.9"
      ]
     },
     "metadata": {},
     "output_type": "display_data"
    },
    {
     "data": {
      "text/html": [
       "<pre>recommendations finished on 83000/138493 queries. users per second: 11046.1</pre>"
      ],
      "text/plain": [
       "recommendations finished on 83000/138493 queries. users per second: 11046.1"
      ]
     },
     "metadata": {},
     "output_type": "display_data"
    },
    {
     "data": {
      "text/html": [
       "<pre>recommendations finished on 84000/138493 queries. users per second: 11043.9</pre>"
      ],
      "text/plain": [
       "recommendations finished on 84000/138493 queries. users per second: 11043.9"
      ]
     },
     "metadata": {},
     "output_type": "display_data"
    },
    {
     "data": {
      "text/html": [
       "<pre>recommendations finished on 85000/138493 queries. users per second: 11042.7</pre>"
      ],
      "text/plain": [
       "recommendations finished on 85000/138493 queries. users per second: 11042.7"
      ]
     },
     "metadata": {},
     "output_type": "display_data"
    },
    {
     "data": {
      "text/html": [
       "<pre>recommendations finished on 86000/138493 queries. users per second: 11040.6</pre>"
      ],
      "text/plain": [
       "recommendations finished on 86000/138493 queries. users per second: 11040.6"
      ]
     },
     "metadata": {},
     "output_type": "display_data"
    },
    {
     "data": {
      "text/html": [
       "<pre>recommendations finished on 87000/138493 queries. users per second: 11038.5</pre>"
      ],
      "text/plain": [
       "recommendations finished on 87000/138493 queries. users per second: 11038.5"
      ]
     },
     "metadata": {},
     "output_type": "display_data"
    },
    {
     "data": {
      "text/html": [
       "<pre>recommendations finished on 88000/138493 queries. users per second: 11025.2</pre>"
      ],
      "text/plain": [
       "recommendations finished on 88000/138493 queries. users per second: 11025.2"
      ]
     },
     "metadata": {},
     "output_type": "display_data"
    },
    {
     "data": {
      "text/html": [
       "<pre>recommendations finished on 89000/138493 queries. users per second: 10998.3</pre>"
      ],
      "text/plain": [
       "recommendations finished on 89000/138493 queries. users per second: 10998.3"
      ]
     },
     "metadata": {},
     "output_type": "display_data"
    },
    {
     "data": {
      "text/html": [
       "<pre>recommendations finished on 90000/138493 queries. users per second: 10973.1</pre>"
      ],
      "text/plain": [
       "recommendations finished on 90000/138493 queries. users per second: 10973.1"
      ]
     },
     "metadata": {},
     "output_type": "display_data"
    },
    {
     "data": {
      "text/html": [
       "<pre>recommendations finished on 91000/138493 queries. users per second: 10946.8</pre>"
      ],
      "text/plain": [
       "recommendations finished on 91000/138493 queries. users per second: 10946.8"
      ]
     },
     "metadata": {},
     "output_type": "display_data"
    },
    {
     "data": {
      "text/html": [
       "<pre>recommendations finished on 92000/138493 queries. users per second: 10920.1</pre>"
      ],
      "text/plain": [
       "recommendations finished on 92000/138493 queries. users per second: 10920.1"
      ]
     },
     "metadata": {},
     "output_type": "display_data"
    },
    {
     "data": {
      "text/html": [
       "<pre>recommendations finished on 93000/138493 queries. users per second: 10894.4</pre>"
      ],
      "text/plain": [
       "recommendations finished on 93000/138493 queries. users per second: 10894.4"
      ]
     },
     "metadata": {},
     "output_type": "display_data"
    },
    {
     "data": {
      "text/html": [
       "<pre>recommendations finished on 94000/138493 queries. users per second: 10870.2</pre>"
      ],
      "text/plain": [
       "recommendations finished on 94000/138493 queries. users per second: 10870.2"
      ]
     },
     "metadata": {},
     "output_type": "display_data"
    },
    {
     "data": {
      "text/html": [
       "<pre>recommendations finished on 95000/138493 queries. users per second: 10843.6</pre>"
      ],
      "text/plain": [
       "recommendations finished on 95000/138493 queries. users per second: 10843.6"
      ]
     },
     "metadata": {},
     "output_type": "display_data"
    },
    {
     "data": {
      "text/html": [
       "<pre>recommendations finished on 96000/138493 queries. users per second: 10820.9</pre>"
      ],
      "text/plain": [
       "recommendations finished on 96000/138493 queries. users per second: 10820.9"
      ]
     },
     "metadata": {},
     "output_type": "display_data"
    },
    {
     "data": {
      "text/html": [
       "<pre>recommendations finished on 97000/138493 queries. users per second: 10798.7</pre>"
      ],
      "text/plain": [
       "recommendations finished on 97000/138493 queries. users per second: 10798.7"
      ]
     },
     "metadata": {},
     "output_type": "display_data"
    },
    {
     "data": {
      "text/html": [
       "<pre>recommendations finished on 98000/138493 queries. users per second: 10775.9</pre>"
      ],
      "text/plain": [
       "recommendations finished on 98000/138493 queries. users per second: 10775.9"
      ]
     },
     "metadata": {},
     "output_type": "display_data"
    },
    {
     "data": {
      "text/html": [
       "<pre>recommendations finished on 99000/138493 queries. users per second: 10754.4</pre>"
      ],
      "text/plain": [
       "recommendations finished on 99000/138493 queries. users per second: 10754.4"
      ]
     },
     "metadata": {},
     "output_type": "display_data"
    },
    {
     "data": {
      "text/html": [
       "<pre>recommendations finished on 100000/138493 queries. users per second: 10733.4</pre>"
      ],
      "text/plain": [
       "recommendations finished on 100000/138493 queries. users per second: 10733.4"
      ]
     },
     "metadata": {},
     "output_type": "display_data"
    },
    {
     "data": {
      "text/html": [
       "<pre>recommendations finished on 101000/138493 queries. users per second: 10713.5</pre>"
      ],
      "text/plain": [
       "recommendations finished on 101000/138493 queries. users per second: 10713.5"
      ]
     },
     "metadata": {},
     "output_type": "display_data"
    },
    {
     "data": {
      "text/html": [
       "<pre>recommendations finished on 102000/138493 queries. users per second: 10691.3</pre>"
      ],
      "text/plain": [
       "recommendations finished on 102000/138493 queries. users per second: 10691.3"
      ]
     },
     "metadata": {},
     "output_type": "display_data"
    },
    {
     "data": {
      "text/html": [
       "<pre>recommendations finished on 103000/138493 queries. users per second: 10672.7</pre>"
      ],
      "text/plain": [
       "recommendations finished on 103000/138493 queries. users per second: 10672.7"
      ]
     },
     "metadata": {},
     "output_type": "display_data"
    },
    {
     "data": {
      "text/html": [
       "<pre>recommendations finished on 104000/138493 queries. users per second: 10649.2</pre>"
      ],
      "text/plain": [
       "recommendations finished on 104000/138493 queries. users per second: 10649.2"
      ]
     },
     "metadata": {},
     "output_type": "display_data"
    },
    {
     "data": {
      "text/html": [
       "<pre>recommendations finished on 105000/138493 queries. users per second: 10625.7</pre>"
      ],
      "text/plain": [
       "recommendations finished on 105000/138493 queries. users per second: 10625.7"
      ]
     },
     "metadata": {},
     "output_type": "display_data"
    },
    {
     "data": {
      "text/html": [
       "<pre>recommendations finished on 106000/138493 queries. users per second: 10606.2</pre>"
      ],
      "text/plain": [
       "recommendations finished on 106000/138493 queries. users per second: 10606.2"
      ]
     },
     "metadata": {},
     "output_type": "display_data"
    },
    {
     "data": {
      "text/html": [
       "<pre>recommendations finished on 107000/138493 queries. users per second: 10588.4</pre>"
      ],
      "text/plain": [
       "recommendations finished on 107000/138493 queries. users per second: 10588.4"
      ]
     },
     "metadata": {},
     "output_type": "display_data"
    },
    {
     "data": {
      "text/html": [
       "<pre>recommendations finished on 108000/138493 queries. users per second: 10570.9</pre>"
      ],
      "text/plain": [
       "recommendations finished on 108000/138493 queries. users per second: 10570.9"
      ]
     },
     "metadata": {},
     "output_type": "display_data"
    },
    {
     "data": {
      "text/html": [
       "<pre>recommendations finished on 109000/138493 queries. users per second: 10554.2</pre>"
      ],
      "text/plain": [
       "recommendations finished on 109000/138493 queries. users per second: 10554.2"
      ]
     },
     "metadata": {},
     "output_type": "display_data"
    },
    {
     "data": {
      "text/html": [
       "<pre>recommendations finished on 110000/138493 queries. users per second: 10535.7</pre>"
      ],
      "text/plain": [
       "recommendations finished on 110000/138493 queries. users per second: 10535.7"
      ]
     },
     "metadata": {},
     "output_type": "display_data"
    },
    {
     "data": {
      "text/html": [
       "<pre>recommendations finished on 111000/138493 queries. users per second: 10520</pre>"
      ],
      "text/plain": [
       "recommendations finished on 111000/138493 queries. users per second: 10520"
      ]
     },
     "metadata": {},
     "output_type": "display_data"
    },
    {
     "data": {
      "text/html": [
       "<pre>recommendations finished on 112000/138493 queries. users per second: 10504.5</pre>"
      ],
      "text/plain": [
       "recommendations finished on 112000/138493 queries. users per second: 10504.5"
      ]
     },
     "metadata": {},
     "output_type": "display_data"
    },
    {
     "data": {
      "text/html": [
       "<pre>recommendations finished on 113000/138493 queries. users per second: 10486.4</pre>"
      ],
      "text/plain": [
       "recommendations finished on 113000/138493 queries. users per second: 10486.4"
      ]
     },
     "metadata": {},
     "output_type": "display_data"
    },
    {
     "data": {
      "text/html": [
       "<pre>recommendations finished on 114000/138493 queries. users per second: 10471.6</pre>"
      ],
      "text/plain": [
       "recommendations finished on 114000/138493 queries. users per second: 10471.6"
      ]
     },
     "metadata": {},
     "output_type": "display_data"
    },
    {
     "data": {
      "text/html": [
       "<pre>recommendations finished on 115000/138493 queries. users per second: 10457.1</pre>"
      ],
      "text/plain": [
       "recommendations finished on 115000/138493 queries. users per second: 10457.1"
      ]
     },
     "metadata": {},
     "output_type": "display_data"
    },
    {
     "data": {
      "text/html": [
       "<pre>recommendations finished on 116000/138493 queries. users per second: 10439.1</pre>"
      ],
      "text/plain": [
       "recommendations finished on 116000/138493 queries. users per second: 10439.1"
      ]
     },
     "metadata": {},
     "output_type": "display_data"
    },
    {
     "data": {
      "text/html": [
       "<pre>recommendations finished on 117000/138493 queries. users per second: 10424</pre>"
      ],
      "text/plain": [
       "recommendations finished on 117000/138493 queries. users per second: 10424"
      ]
     },
     "metadata": {},
     "output_type": "display_data"
    },
    {
     "data": {
      "text/html": [
       "<pre>recommendations finished on 118000/138493 queries. users per second: 10410.7</pre>"
      ],
      "text/plain": [
       "recommendations finished on 118000/138493 queries. users per second: 10410.7"
      ]
     },
     "metadata": {},
     "output_type": "display_data"
    },
    {
     "data": {
      "text/html": [
       "<pre>recommendations finished on 119000/138493 queries. users per second: 10395.8</pre>"
      ],
      "text/plain": [
       "recommendations finished on 119000/138493 queries. users per second: 10395.8"
      ]
     },
     "metadata": {},
     "output_type": "display_data"
    },
    {
     "data": {
      "text/html": [
       "<pre>recommendations finished on 120000/138493 queries. users per second: 10383.2</pre>"
      ],
      "text/plain": [
       "recommendations finished on 120000/138493 queries. users per second: 10383.2"
      ]
     },
     "metadata": {},
     "output_type": "display_data"
    },
    {
     "data": {
      "text/html": [
       "<pre>recommendations finished on 121000/138493 queries. users per second: 10369.2</pre>"
      ],
      "text/plain": [
       "recommendations finished on 121000/138493 queries. users per second: 10369.2"
      ]
     },
     "metadata": {},
     "output_type": "display_data"
    },
    {
     "data": {
      "text/html": [
       "<pre>recommendations finished on 122000/138493 queries. users per second: 10356.1</pre>"
      ],
      "text/plain": [
       "recommendations finished on 122000/138493 queries. users per second: 10356.1"
      ]
     },
     "metadata": {},
     "output_type": "display_data"
    },
    {
     "data": {
      "text/html": [
       "<pre>recommendations finished on 123000/138493 queries. users per second: 10343.5</pre>"
      ],
      "text/plain": [
       "recommendations finished on 123000/138493 queries. users per second: 10343.5"
      ]
     },
     "metadata": {},
     "output_type": "display_data"
    },
    {
     "data": {
      "text/html": [
       "<pre>recommendations finished on 124000/138493 queries. users per second: 10338.7</pre>"
      ],
      "text/plain": [
       "recommendations finished on 124000/138493 queries. users per second: 10338.7"
      ]
     },
     "metadata": {},
     "output_type": "display_data"
    },
    {
     "data": {
      "text/html": [
       "<pre>recommendations finished on 125000/138493 queries. users per second: 10338.3</pre>"
      ],
      "text/plain": [
       "recommendations finished on 125000/138493 queries. users per second: 10338.3"
      ]
     },
     "metadata": {},
     "output_type": "display_data"
    },
    {
     "data": {
      "text/html": [
       "<pre>recommendations finished on 126000/138493 queries. users per second: 10337.1</pre>"
      ],
      "text/plain": [
       "recommendations finished on 126000/138493 queries. users per second: 10337.1"
      ]
     },
     "metadata": {},
     "output_type": "display_data"
    },
    {
     "data": {
      "text/html": [
       "<pre>recommendations finished on 127000/138493 queries. users per second: 10336.2</pre>"
      ],
      "text/plain": [
       "recommendations finished on 127000/138493 queries. users per second: 10336.2"
      ]
     },
     "metadata": {},
     "output_type": "display_data"
    },
    {
     "data": {
      "text/html": [
       "<pre>recommendations finished on 128000/138493 queries. users per second: 10336.4</pre>"
      ],
      "text/plain": [
       "recommendations finished on 128000/138493 queries. users per second: 10336.4"
      ]
     },
     "metadata": {},
     "output_type": "display_data"
    },
    {
     "data": {
      "text/html": [
       "<pre>recommendations finished on 129000/138493 queries. users per second: 10334.9</pre>"
      ],
      "text/plain": [
       "recommendations finished on 129000/138493 queries. users per second: 10334.9"
      ]
     },
     "metadata": {},
     "output_type": "display_data"
    },
    {
     "data": {
      "text/html": [
       "<pre>recommendations finished on 130000/138493 queries. users per second: 10334.9</pre>"
      ],
      "text/plain": [
       "recommendations finished on 130000/138493 queries. users per second: 10334.9"
      ]
     },
     "metadata": {},
     "output_type": "display_data"
    },
    {
     "data": {
      "text/html": [
       "<pre>recommendations finished on 131000/138493 queries. users per second: 10333.6</pre>"
      ],
      "text/plain": [
       "recommendations finished on 131000/138493 queries. users per second: 10333.6"
      ]
     },
     "metadata": {},
     "output_type": "display_data"
    },
    {
     "data": {
      "text/html": [
       "<pre>recommendations finished on 132000/138493 queries. users per second: 10330.9</pre>"
      ],
      "text/plain": [
       "recommendations finished on 132000/138493 queries. users per second: 10330.9"
      ]
     },
     "metadata": {},
     "output_type": "display_data"
    },
    {
     "data": {
      "text/html": [
       "<pre>recommendations finished on 133000/138493 queries. users per second: 10329.1</pre>"
      ],
      "text/plain": [
       "recommendations finished on 133000/138493 queries. users per second: 10329.1"
      ]
     },
     "metadata": {},
     "output_type": "display_data"
    },
    {
     "data": {
      "text/html": [
       "<pre>recommendations finished on 134000/138493 queries. users per second: 10324.2</pre>"
      ],
      "text/plain": [
       "recommendations finished on 134000/138493 queries. users per second: 10324.2"
      ]
     },
     "metadata": {},
     "output_type": "display_data"
    },
    {
     "data": {
      "text/html": [
       "<pre>recommendations finished on 135000/138493 queries. users per second: 10295.5</pre>"
      ],
      "text/plain": [
       "recommendations finished on 135000/138493 queries. users per second: 10295.5"
      ]
     },
     "metadata": {},
     "output_type": "display_data"
    },
    {
     "data": {
      "text/html": [
       "<pre>recommendations finished on 136000/138493 queries. users per second: 10249.2</pre>"
      ],
      "text/plain": [
       "recommendations finished on 136000/138493 queries. users per second: 10249.2"
      ]
     },
     "metadata": {},
     "output_type": "display_data"
    },
    {
     "data": {
      "text/html": [
       "<pre>recommendations finished on 137000/138493 queries. users per second: 10186.8</pre>"
      ],
      "text/plain": [
       "recommendations finished on 137000/138493 queries. users per second: 10186.8"
      ]
     },
     "metadata": {},
     "output_type": "display_data"
    },
    {
     "data": {
      "text/html": [
       "<pre>recommendations finished on 138000/138493 queries. users per second: 10109.7</pre>"
      ],
      "text/plain": [
       "recommendations finished on 138000/138493 queries. users per second: 10109.7"
      ]
     },
     "metadata": {},
     "output_type": "display_data"
    }
   ],
   "source": [
    "# grab the results of the model\n",
    "results = model.recommend();"
   ]
  },
  {
   "cell_type": "code",
   "execution_count": 6,
   "metadata": {},
   "outputs": [
    {
     "name": "stdout",
     "output_type": "stream",
     "text": [
      "+--------+---------+--------+------------+\n",
      "| userId | movieId | rating | timestamp  |\n",
      "+--------+---------+--------+------------+\n",
      "|  239   |    1    |  5.0   | 1245047671 |\n",
      "|  239   |   261   |  2.5   | 1245045481 |\n",
      "|  239   |   586   |  5.0   | 1245047731 |\n",
      "|  239   |   588   |  5.0   | 1245047291 |\n",
      "|  239   |   596   |  4.5   | 1245045442 |\n",
      "|  239   |   783   |  4.0   | 1245049069 |\n",
      "|  239   |   788   |  4.5   | 1245047974 |\n",
      "|  239   |   919   |  3.5   | 1245047817 |\n",
      "|  239   |   1025  |  4.0   | 1245049826 |\n",
      "|  239   |   1073  |  4.0   | 1245047806 |\n",
      "|  239   |   1097  |  5.0   | 1245047736 |\n",
      "|  239   |   1197  |  4.5   | 1245048029 |\n",
      "|  239   |   1270  |  4.0   | 1245047116 |\n",
      "|  239   |   1307  |  4.0   | 1249368210 |\n",
      "|  239   |   1377  |  4.0   | 1245048290 |\n",
      "|  239   |   1566  |  4.5   | 1245050461 |\n",
      "|  239   |   1592  |  4.0   | 1245048392 |\n",
      "|  239   |   1688  |  4.0   | 1249114697 |\n",
      "|  239   |   1907  |  4.5   | 1245049993 |\n",
      "|  239   |   2012  |  4.0   | 1245047635 |\n",
      "|  239   |   2081  |  5.0   | 1245048020 |\n",
      "|  239   |   2092  |  4.0   | 1245050570 |\n",
      "|  239   |   2628  |  4.5   | 1249110716 |\n",
      "|  239   |   2724  |  3.5   | 1249109720 |\n",
      "|  239   |   2804  |  4.5   | 1248409490 |\n",
      "|  239   |   3081  |  2.5   | 1249110584 |\n",
      "|  239   |   3155  |  4.0   | 1260683555 |\n",
      "|  239   |   3287  |  4.0   | 1260682802 |\n",
      "|  239   |   3404  |  4.5   | 1260684161 |\n",
      "|  239   |   3977  |  4.0   | 1260683147 |\n",
      "+--------+---------+--------+------------+\n",
      "[30051 rows x 4 columns]\n",
      "\n"
     ]
    }
   ],
   "source": [
    "# print the validation data\n",
    "validation_data.print_rows(num_rows=30)"
   ]
  },
  {
   "cell_type": "code",
   "execution_count": 7,
   "metadata": {},
   "outputs": [
    {
     "data": {
      "text/html": [
       "<pre>recommendations finished on 1000/1000 queries. users per second: 5404.59</pre>"
      ],
      "text/plain": [
       "recommendations finished on 1000/1000 queries. users per second: 5404.59"
      ]
     },
     "metadata": {},
     "output_type": "display_data"
    },
    {
     "name": "stderr",
     "output_type": "stream",
     "text": [
      "WARNING:root:Model trained without a target. Skipping RMSE computation.\n"
     ]
    },
    {
     "name": "stdout",
     "output_type": "stream",
     "text": [
      "\n",
      "Precision and recall summary statistics by cutoff\n",
      "+--------+---------------------+----------------------+\n",
      "| cutoff |    mean_precision   |     mean_recall      |\n",
      "+--------+---------------------+----------------------+\n",
      "|   1    | 0.19300000000000003 | 0.011002188964048002 |\n",
      "|   2    | 0.19100000000000006 | 0.021859291072490572 |\n",
      "|   3    | 0.18166666666666675 | 0.030583112010213274 |\n",
      "|   4    | 0.18099999999999986 | 0.038971043906866905 |\n",
      "|   5    |  0.1736000000000001 | 0.04586544319490062  |\n",
      "|   6    | 0.16583333333333306 | 0.05233613911585778  |\n",
      "|   7    | 0.16557142857142823 |  0.060710663843545   |\n",
      "|   8    |  0.1639999999999999 | 0.06842047824043684  |\n",
      "|   9    | 0.16411111111111118 | 0.07544940261428462  |\n",
      "|   10   | 0.16360000000000016 | 0.08355148673814965  |\n",
      "+--------+---------------------+----------------------+\n",
      "[10 rows x 3 columns]\n",
      "\n"
     ]
    },
    {
     "data": {
      "text/plain": [
       "{'precision_recall_by_user': Columns:\n",
       " \tuserId\tint\n",
       " \tcutoff\tint\n",
       " \tprecision\tfloat\n",
       " \trecall\tfloat\n",
       " \tcount\tint\n",
       " \n",
       " Rows: 18000\n",
       " \n",
       " Data:\n",
       " +--------+--------+---------------------+--------+-------+\n",
       " | userId | cutoff |      precision      | recall | count |\n",
       " +--------+--------+---------------------+--------+-------+\n",
       " |  239   |   1    |         0.0         |  0.0   |   50  |\n",
       " |  239   |   2    |         0.0         |  0.0   |   50  |\n",
       " |  239   |   3    |  0.3333333333333333 |  0.02  |   50  |\n",
       " |  239   |   4    |         0.25        |  0.02  |   50  |\n",
       " |  239   |   5    |         0.2         |  0.02  |   50  |\n",
       " |  239   |   6    | 0.16666666666666666 |  0.02  |   50  |\n",
       " |  239   |   7    | 0.14285714285714285 |  0.02  |   50  |\n",
       " |  239   |   8    |         0.25        |  0.04  |   50  |\n",
       " |  239   |   9    |  0.3333333333333333 |  0.06  |   50  |\n",
       " |  239   |   10   |         0.3         |  0.06  |   50  |\n",
       " +--------+--------+---------------------+--------+-------+\n",
       " [18000 rows x 5 columns]\n",
       " Note: Only the head of the SFrame is printed.\n",
       " You can use print_rows(num_rows=m, num_columns=n) to print more rows and columns.,\n",
       " 'precision_recall_overall': Columns:\n",
       " \tcutoff\tint\n",
       " \tprecision\tfloat\n",
       " \trecall\tfloat\n",
       " \n",
       " Rows: 18\n",
       " \n",
       " Data:\n",
       " +--------+---------------------+----------------------+\n",
       " | cutoff |      precision      |        recall        |\n",
       " +--------+---------------------+----------------------+\n",
       " |   1    | 0.19300000000000006 | 0.011002188964047989 |\n",
       " |   2    | 0.19100000000000025 | 0.021859291072490586 |\n",
       " |   3    | 0.18166666666666678 | 0.030583112010213277 |\n",
       " |   4    | 0.18100000000000005 | 0.03897104390686692  |\n",
       " |   5    | 0.17360000000000028 | 0.045865443194900685 |\n",
       " |   6    | 0.16583333333333358 | 0.052336139115857806 |\n",
       " |   7    |  0.1655714285714285 | 0.060710663843544975 |\n",
       " |   8    | 0.16400000000000012 | 0.06842047824043691  |\n",
       " |   9    | 0.16411111111111124 | 0.07544940261428473  |\n",
       " |   10   | 0.16359999999999983 |  0.0835514867381496  |\n",
       " +--------+---------------------+----------------------+\n",
       " [18 rows x 3 columns]\n",
       " Note: Only the head of the SFrame is printed.\n",
       " You can use print_rows(num_rows=m, num_columns=n) to print more rows and columns.}"
      ]
     },
     "execution_count": 7,
     "metadata": {},
     "output_type": "execute_result"
    }
   ],
   "source": [
    "# evaluate the model\n",
    "model.evaluate(validation_data)\n",
    "\n",
    "#ska.engine.save_model(model_name, model_data, tags = [\"0.1.0\", \"latest\"], access=\"private\").result()"
   ]
  },
  {
   "cell_type": "code",
   "execution_count": null,
   "metadata": {},
   "outputs": [],
   "source": []
  }
 ],
 "metadata": {
  "kernelspec": {
   "display_name": "Python 3",
   "language": "python",
   "name": "python3"
  },
  "language_info": {
   "codemirror_mode": {
    "name": "ipython",
    "version": 3
   },
   "file_extension": ".py",
   "mimetype": "text/x-python",
   "name": "python",
   "nbconvert_exporter": "python",
   "pygments_lexer": "ipython3",
   "version": "3.6.6"
  }
 },
 "nbformat": 4,
 "nbformat_minor": 2
}
