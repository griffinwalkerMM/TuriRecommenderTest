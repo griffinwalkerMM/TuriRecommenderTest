{
 "cells": [
  {
   "cell_type": "markdown",
   "metadata": {},
   "source": [
    "# **TuriCreate Recommender Model**\n",
    "The following notebook includes an example of data import, model training and validation evaluation."
   ]
  },
  {
   "cell_type": "code",
   "execution_count": 1,
   "metadata": {},
   "outputs": [
    {
     "name": "stderr",
     "output_type": "stream",
     "text": [
      "/opt/conda/lib/python3.6/site-packages/aenum/__init__.py:163: DeprecationWarning: inspect.getargspec() is deprecated, use inspect.signature() or inspect.getfullargspec()\n",
      "  args, varargs, keywords, defaults = inspect.getargspec(method)\n"
     ]
    }
   ],
   "source": [
    "import turicreate as tc\n",
    "import pandas as pd\n",
    "import time\n",
    "from skafossdk import *\n",
    "import common.save_models as sm"
   ]
  },
  {
   "cell_type": "code",
   "execution_count": 2,
   "metadata": {},
   "outputs": [
    {
     "name": "stdout",
     "output_type": "stream",
     "text": [
      "2018-11-26 15:58:13,153 - skafossdk.data_engine - INFO - Connecting to DataEngine\n",
      "2018-11-26 15:58:13,184 - skafossdk.data_engine - INFO - DataEngine Connection Opened\n"
     ]
    }
   ],
   "source": [
    "ska = Skafos()"
   ]
  },
  {
   "cell_type": "markdown",
   "metadata": {},
   "source": [
    "## **The Data**\n",
    "There are 2 main data inputs for a recommender model:\n",
    "- **items**: items that we want to recommend to a given user, ex. apples\n",
    "- **actions**: actions users have taken on items, ex. John bought apples\n",
    "\n",
    "In our example here, we have movies (items) and ratings by users on those movies(actions)."
   ]
  },
  {
   "cell_type": "code",
   "execution_count": 3,
   "metadata": {},
   "outputs": [],
   "source": [
    "%%capture \n",
    "actions = tc.SFrame.read_csv('https://s3.amazonaws.com/skafos.example.data/MovieLensDataset/ml-20m/ratings.csv'); \n",
    "items = tc.SFrame.read_csv('https://s3.amazonaws.com/skafos.example.data/MovieLensDataset/ml-20m/movies.csv');"
   ]
  },
  {
   "cell_type": "code",
   "execution_count": 4,
   "metadata": {},
   "outputs": [],
   "source": [
    "pd_actions = actions.to_dataframe()\n",
    "sample_user_ids = pd.Series(pd_actions['userId'].unique()).sample(10000)\n",
    "actions = tc.SFrame(pd_actions[pd_actions['userId'].isin(sample_user_ids)])"
   ]
  },
  {
   "cell_type": "code",
   "execution_count": 5,
   "metadata": {},
   "outputs": [],
   "source": [
    "%%capture \n",
    "# split the training and validation sets up\n",
    "training_data, validation_data = tc.recommender.util.random_split_by_user(actions, 'userId', 'movieId')"
   ]
  },
  {
   "cell_type": "code",
   "execution_count": 6,
   "metadata": {},
   "outputs": [],
   "source": [
    "%%capture \n",
    "# build the recommender\n",
    "model = tc.recommender.create(training_data, 'userId', 'movieId')"
   ]
  },
  {
   "cell_type": "code",
   "execution_count": 7,
   "metadata": {},
   "outputs": [],
   "source": [
    "%%capture\n",
    "# grab the results of the model\n",
    "results = model.recommend();"
   ]
  },
  {
   "cell_type": "code",
   "execution_count": 8,
   "metadata": {},
   "outputs": [
    {
     "name": "stdout",
     "output_type": "stream",
     "text": [
      "+--------+---------+--------+------------+\n",
      "| userId | movieId | rating | timestamp  |\n",
      "+--------+---------+--------+------------+\n",
      "|  369   |    44   |  4.0   | 1130282278 |\n",
      "|  369   |   1801  |  2.5   | 1130282941 |\n",
      "|  369   |   1831  |  4.0   | 1130282735 |\n",
      "|  369   |   2161  |  4.0   | 1130282360 |\n",
      "|  369   |   2724  |  2.5   | 1130282878 |\n",
      "|  369   |   3273  |  0.5   | 1130282851 |\n",
      "|  369   |   3977  |  4.0   | 1130282236 |\n",
      "|  369   |   4447  |  4.5   | 1130282964 |\n",
      "|  369   |   5313  |  3.5   | 1130282887 |\n",
      "|  369   |   5418  |  4.5   | 1130282343 |\n",
      "+--------+---------+--------+------------+\n",
      "[30434 rows x 4 columns]\n",
      "\n"
     ]
    }
   ],
   "source": [
    "# print the validation data\n",
    "validation_data.print_rows(num_rows=10)"
   ]
  },
  {
   "cell_type": "code",
   "execution_count": 9,
   "metadata": {},
   "outputs": [
    {
     "data": {
      "text/html": [
       "<pre>recommendations finished on 1000/1000 queries. users per second: 1746.8</pre>"
      ],
      "text/plain": [
       "recommendations finished on 1000/1000 queries. users per second: 1746.8"
      ]
     },
     "metadata": {},
     "output_type": "display_data"
    },
    {
     "name": "stderr",
     "output_type": "stream",
     "text": [
      "2018-11-26 16:00:07,980 - root - WARNING - Model trained without a target. Skipping RMSE computation.\n"
     ]
    },
    {
     "name": "stdout",
     "output_type": "stream",
     "text": [
      "\n",
      "Precision and recall summary statistics by cutoff\n",
      "+--------+---------------------+----------------------+\n",
      "| cutoff |    mean_precision   |     mean_recall      |\n",
      "+--------+---------------------+----------------------+\n",
      "|   1    | 0.10800000000000004 | 0.002939350731763183 |\n",
      "|   2    | 0.10649999999999996 | 0.006892096810675018 |\n",
      "|   3    | 0.10966666666666673 | 0.012802113352985577 |\n",
      "|   4    | 0.11649999999999994 | 0.019536039326366526 |\n",
      "|   5    |  0.1194000000000001 |  0.0259580000104425  |\n",
      "|   6    | 0.12349999999999992 | 0.03276071423429209  |\n",
      "|   7    | 0.12757142857142842 | 0.04100380681337541  |\n",
      "|   8    | 0.13400000000000006 | 0.05158009499066049  |\n",
      "|   9    | 0.13899999999999987 | 0.06118391108310208  |\n",
      "|   10   | 0.14099999999999996 | 0.06971178108248231  |\n",
      "+--------+---------------------+----------------------+\n",
      "[10 rows x 3 columns]\n",
      "\n"
     ]
    },
    {
     "data": {
      "text/plain": [
       "{'precision_recall_by_user': Columns:\n",
       " \tuserId\tint\n",
       " \tcutoff\tint\n",
       " \tprecision\tfloat\n",
       " \trecall\tfloat\n",
       " \tcount\tint\n",
       " \n",
       " Rows: 18000\n",
       " \n",
       " Data:\n",
       " +--------+--------+-----------+--------+-------+\n",
       " | userId | cutoff | precision | recall | count |\n",
       " +--------+--------+-----------+--------+-------+\n",
       " |  369   |   1    |    0.0    |  0.0   |   17  |\n",
       " |  369   |   2    |    0.0    |  0.0   |   17  |\n",
       " |  369   |   3    |    0.0    |  0.0   |   17  |\n",
       " |  369   |   4    |    0.0    |  0.0   |   17  |\n",
       " |  369   |   5    |    0.0    |  0.0   |   17  |\n",
       " |  369   |   6    |    0.0    |  0.0   |   17  |\n",
       " |  369   |   7    |    0.0    |  0.0   |   17  |\n",
       " |  369   |   8    |    0.0    |  0.0   |   17  |\n",
       " |  369   |   9    |    0.0    |  0.0   |   17  |\n",
       " |  369   |   10   |    0.0    |  0.0   |   17  |\n",
       " +--------+--------+-----------+--------+-------+\n",
       " [18000 rows x 5 columns]\n",
       " Note: Only the head of the SFrame is printed.\n",
       " You can use print_rows(num_rows=m, num_columns=n) to print more rows and columns.,\n",
       " 'precision_recall_overall': Columns:\n",
       " \tcutoff\tint\n",
       " \tprecision\tfloat\n",
       " \trecall\tfloat\n",
       " \n",
       " Rows: 18\n",
       " \n",
       " Data:\n",
       " +--------+---------------------+-----------------------+\n",
       " | cutoff |      precision      |         recall        |\n",
       " +--------+---------------------+-----------------------+\n",
       " |   1    |  0.1079999999999999 | 0.0029393507317631764 |\n",
       " |   2    | 0.10649999999999998 |  0.006892096810675014 |\n",
       " |   3    |  0.1096666666666667 |  0.012802113352985568 |\n",
       " |   4    | 0.11650000000000006 |  0.019536039326366536 |\n",
       " |   5    |  0.1193999999999999 |  0.02595800001044247  |\n",
       " |   6    | 0.12349999999999992 |  0.03276071423429218  |\n",
       " |   7    | 0.12757142857142859 |  0.041003806813375364 |\n",
       " |   8    |  0.1339999999999999 |  0.05158009499066049  |\n",
       " |   9    | 0.13899999999999987 |  0.061183911083102116 |\n",
       " |   10   | 0.14099999999999993 |  0.06971178108248231  |\n",
       " +--------+---------------------+-----------------------+\n",
       " [18 rows x 3 columns]\n",
       " Note: Only the head of the SFrame is printed.\n",
       " You can use print_rows(num_rows=m, num_columns=n) to print more rows and columns.}"
      ]
     },
     "execution_count": 9,
     "metadata": {},
     "output_type": "execute_result"
    }
   ],
   "source": [
    "# evaluate the model\n",
    "model.evaluate(validation_data)\n"
   ]
  },
  {
   "cell_type": "code",
   "execution_count": 10,
   "metadata": {},
   "outputs": [
    {
     "name": "stdout",
     "output_type": "stream",
     "text": [
      "This model is exported as a custom Core ML model. In order to use it in your\n",
      "application, you must also include \"libRecommender.dylib\". For additional\n",
      "details see:\n",
      "https://apple.github.io/turicreate/docs/userguide/recommender/coreml-deployment.html\n"
     ]
    }
   ],
   "source": [
    "# export to coreml\n",
    "coreml_model_name = \"recommender.mlmodel\"\n",
    "res = model.export_coreml(coreml_model_name)\n",
    "\n",
    "# compress the model\n",
    "compressed_model_name, compressed_model = sm.compress_model(coreml_model_name)"
   ]
  },
  {
   "cell_type": "code",
   "execution_count": 11,
   "metadata": {},
   "outputs": [
    {
     "name": "stdout",
     "output_type": "stream",
     "text": [
      "{'data': {'name': 'recommender.mlmodel.gzip', 'version': '1543248085661', 'tags': ['latest'], 'deployment_id': '59d7f942-986c-40d6-a453-81ec35f9b8fb', 'job_id': '', 'project_token': '101d675b749e5cfa9c08f65f', 'inserted_at': '2018-11-26T16:01:26Z'}, 'success': True, 'final': True}\n"
     ]
    }
   ],
   "source": [
    "# save to Skafos\n",
    "sm.skafos_save_model(skafos = ska, model_name = compressed_model_name,\n",
    "                     compressed_model = compressed_model,\n",
    "                     permissions = 'public')"
   ]
  },
  {
   "cell_type": "code",
   "execution_count": null,
   "metadata": {},
   "outputs": [],
   "source": []
  },
  {
   "cell_type": "code",
   "execution_count": null,
   "metadata": {},
   "outputs": [],
   "source": []
  }
 ],
 "metadata": {
  "kernelspec": {
   "display_name": "Python 3",
   "language": "python",
   "name": "python3"
  },
  "language_info": {
   "codemirror_mode": {
    "name": "ipython",
    "version": 3
   },
   "file_extension": ".py",
   "mimetype": "text/x-python",
   "name": "python",
   "nbconvert_exporter": "python",
   "pygments_lexer": "ipython3",
   "version": "3.6.5"
  }
 },
 "nbformat": 4,
 "nbformat_minor": 2
}
